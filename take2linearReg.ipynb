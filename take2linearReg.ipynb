{
  "nbformat": 4,
  "nbformat_minor": 0,
  "metadata": {
    "colab": {
      "provenance": []
    },
    "kernelspec": {
      "name": "python3",
      "display_name": "Python 3"
    },
    "language_info": {
      "name": "python"
    }
  },
  "cells": [
    {
      "cell_type": "code",
      "execution_count": 1,
      "metadata": {
        "id": "-6SJIvNFR4oN"
      },
      "outputs": [],
      "source": [
        "import numpy as np\n",
        "import pandas as pd\n",
        "from geopy.geocoders import Nominatim\n",
        "import matplotlib.pyplot as plt\n",
        "import math"
      ]
    },
    {
      "cell_type": "code",
      "source": [
        "data = pd.read_csv('/content/raw_house_data.csv')"
      ],
      "metadata": {
        "id": "yRgUPgXlR-aw"
      },
      "execution_count": 2,
      "outputs": []
    },
    {
      "cell_type": "code",
      "source": [
        "# Check for missing values\n",
        "missing_values = data.isnull().sum()"
      ],
      "metadata": {
        "id": "u8TyZOtNR_1T"
      },
      "execution_count": 3,
      "outputs": []
    },
    {
      "cell_type": "code",
      "source": [
        "# Print the number of missing values for each column\n",
        "print(missing_values)"
      ],
      "metadata": {
        "colab": {
          "base_uri": "https://localhost:8080/"
        },
        "id": "gqK97MlGSETl",
        "outputId": "1011c866-ccc0-4602-f227-12abbb40c53d"
      },
      "execution_count": 4,
      "outputs": [
        {
          "output_type": "stream",
          "name": "stdout",
          "text": [
            "MLS                  0\n",
            "sold_price           0\n",
            "zipcode              0\n",
            "longitude            0\n",
            "latitude             0\n",
            "lot_acres           10\n",
            "taxes                0\n",
            "year_built           0\n",
            "bedrooms             0\n",
            "bathrooms            0\n",
            "sqrt_ft              0\n",
            "garage               0\n",
            "kitchen_features     0\n",
            "fireplaces          25\n",
            "floor_covering       0\n",
            "HOA                  0\n",
            "dtype: int64\n"
          ]
        }
      ]
    },
    {
      "cell_type": "code",
      "source": [
        "# Fill in missing values in lot_acres with the median\n",
        "median_lot_acres = data['lot_acres'].median()\n",
        "data['lot_acres'].fillna(median_lot_acres, inplace=True)"
      ],
      "metadata": {
        "id": "pTaoDVkySFhr"
      },
      "execution_count": 5,
      "outputs": []
    },
    {
      "cell_type": "code",
      "source": [
        "# Fill in missing values in fireplaces with the mode\n",
        "mode_fireplaces = data['fireplaces'].mode()[0]\n",
        "data['fireplaces'].fillna(mode_fireplaces, inplace=True)"
      ],
      "metadata": {
        "id": "y5azBcT8SH0A"
      },
      "execution_count": 6,
      "outputs": []
    },
    {
      "cell_type": "code",
      "source": [
        "# Verify that there are no more missing values\n",
        "missing_values = data.isnull().sum()\n",
        "print(missing_values)"
      ],
      "metadata": {
        "colab": {
          "base_uri": "https://localhost:8080/"
        },
        "id": "6STXlf0PSJK4",
        "outputId": "57c68a38-09a1-4283-df95-d7d5594eadff"
      },
      "execution_count": 7,
      "outputs": [
        {
          "output_type": "stream",
          "name": "stdout",
          "text": [
            "MLS                 0\n",
            "sold_price          0\n",
            "zipcode             0\n",
            "longitude           0\n",
            "latitude            0\n",
            "lot_acres           0\n",
            "taxes               0\n",
            "year_built          0\n",
            "bedrooms            0\n",
            "bathrooms           0\n",
            "sqrt_ft             0\n",
            "garage              0\n",
            "kitchen_features    0\n",
            "fireplaces          0\n",
            "floor_covering      0\n",
            "HOA                 0\n",
            "dtype: int64\n"
          ]
        }
      ]
    },
    {
      "cell_type": "code",
      "source": [
        "data.dtypes"
      ],
      "metadata": {
        "colab": {
          "base_uri": "https://localhost:8080/"
        },
        "id": "OqxZX7ffSKhb",
        "outputId": "a7ed7c0b-655a-4e4f-eeec-c4ec3d7f0a6f"
      },
      "execution_count": 8,
      "outputs": [
        {
          "output_type": "execute_result",
          "data": {
            "text/plain": [
              "MLS                   int64\n",
              "sold_price          float64\n",
              "zipcode               int64\n",
              "longitude           float64\n",
              "latitude            float64\n",
              "lot_acres           float64\n",
              "taxes               float64\n",
              "year_built            int64\n",
              "bedrooms              int64\n",
              "bathrooms            object\n",
              "sqrt_ft              object\n",
              "garage               object\n",
              "kitchen_features     object\n",
              "fireplaces          float64\n",
              "floor_covering       object\n",
              "HOA                  object\n",
              "dtype: object"
            ]
          },
          "metadata": {},
          "execution_count": 8
        }
      ]
    },
    {
      "cell_type": "markdown",
      "source": [
        "##How to use:\n",
        "\n",
        "Standard usage for my library:\n",
        "\n",
        "**To instantiate the class**\n",
        "\n",
        "- preprocessor = DataPreprocessor()\n",
        "\n",
        "**Using the convert_to_int method**\n",
        "\n",
        " - preprocessor.convert_to_int(**dataframe**, '**column**')\n",
        "\n",
        " - By default this should also run the **check_non_numeric** as a sub method.\n",
        "\n",
        "**Using the resolve_categorical method**\n",
        "\n",
        "- preprocessor.resolve_categorical(**dataframe**, '**existing_column_name**')\n",
        "\n",
        "- existing_column_name = dataframe['existing_column_name'].unique()\n",
        "\n",
        "- data['new_column_name'] = data['existing_column_name'].map({feature: i for i, feature in enumerate(kitchen_features)})\n",
        "\n",
        "**Using the round floats method**\n",
        "\n",
        "- preprocessor.round_floats(**dataframe**, '**column**')\n",
        "\n",
        "**Using scale_features**\n",
        "- data_scaled = preprocessor.scale_features(**dataframe**, **list_of_columns**)\n",
        "\n",
        "**Using remove_outliers**\n",
        "\n",
        "- data_no_outliers = preprocessor.remove_outliers(**data_scaled_dataframe**, **list_of_columns**k, threshold=3)\n",
        "\n",
        "**Using display_correlation_matrix method**\n",
        "\n",
        "- data_processor.display_correlation_matrix(**list_of_columns**)"
      ],
      "metadata": {
        "id": "-dnBsCgjSQvw"
      }
    },
    {
      "cell_type": "code",
      "source": [
        "#import pandas as pd\n",
        "#import numpy as np\n",
        "#import math\n",
        "#import matplotlib.pyplot as plt\n",
        "\n",
        "class DataPreprocessor:\n",
        "    def __init__(self, data):\n",
        "        self.data = data\n",
        "\n",
        "    def remove_negative_sign(self, X):\n",
        "        \"\"\"\n",
        "        Removes negative sign from numerical data.\n",
        "        \"\"\"\n",
        "        X_copy = X.copy()\n",
        "        if isinstance(X_copy, pd.Series):\n",
        "            X_copy = X_copy.to_numpy().reshape(-1, 1)\n",
        "        for i in range(X_copy.shape[1]):\n",
        "            if np.issubdtype(X_copy[:, i].dtype, np.number):\n",
        "                X_copy[:, i] = np.abs(X_copy[:, i])\n",
        "        return X_copy\n",
        "\n",
        "    def scale_features(self, data, columns, method='standardization'):\n",
        "        \"\"\"\n",
        "        Scales or normalizes the features of a DataFrame.\n",
        "\n",
        "        Parameters:\n",
        "        - data: Pandas DataFrame containing the data.\n",
        "        - columns: list of columns to scale or normalize.\n",
        "        - method: scaling method to use. Can be 'standardization' or 'min-max'.\n",
        "\n",
        "        Returns:\n",
        "        - Pandas DataFrame with the scaled or normalized features.\n",
        "        \"\"\"\n",
        "        # Make a copy of the data to avoid modifying the original DataFrame\n",
        "        data_scaled = data.copy()\n",
        "\n",
        "        # Scale or normalize the selected columns\n",
        "        if method == 'standardization':\n",
        "            for col in columns:\n",
        "                data_scaled[col] = (data_scaled[col] - data_scaled[col].mean()) / data_scaled[col].std()\n",
        "\n",
        "        elif method == 'min-max':\n",
        "            for col in columns:\n",
        "                data_scaled[col] = (data_scaled[col] - data_scaled[col].min()) / (data_scaled[col].max() - data_scaled[col].min())\n",
        "\n",
        "        return data_scaled\n",
        "\n",
        "    def remove_outliers(self, data, columns, threshold=2):\n",
        "        \"\"\"\n",
        "        Removes outliers from a DataFrame using the z-score method.\n",
        "\n",
        "        Parameters:\n",
        "        - data: Pandas DataFrame containing the data.\n",
        "        - columns: list of columns to check for outliers.\n",
        "        - threshold: number of standard deviations from the mean to consider an outlier.\n",
        "\n",
        "        Returns:\n",
        "        - Pandas DataFrame without the outliers.\n",
        "        \"\"\"\n",
        "        # Make a copy of the data to avoid modifying the original DataFrame\n",
        "        data_clean = data.copy()\n",
        "\n",
        "        # Iterate over the columns and remove outliers using the z-score method\n",
        "        for col in columns:\n",
        "            z_scores = np.abs((data_clean[col] - data_clean[col].mean()) / data_clean[col].std())\n",
        "            data_clean = data_clean[z_scores <= threshold * data_clean[col].std()]\n",
        "\n",
        "        return data_clean\n",
        "\n",
        "    @staticmethod\n",
        "    def check_non_numeric(data, column):\n",
        "        # Select all rows in the column that cannot be converted to a numeric type\n",
        "        non_numeric = data[pd.to_numeric(data[column], errors='coerce').isna()]\n",
        "\n",
        "        # Check if there are any non-numeric values in the selected rows\n",
        "        if len(non_numeric) > 0:\n",
        "            # If there are non-numeric values, print them out\n",
        "            print(f\"Found non-numeric values in column '{column}':\")\n",
        "            print(non_numeric)\n",
        "        else:\n",
        "            # If there are no non-numeric values, print a message indicating so\n",
        "            print(f\"No non-numeric values found in column '{column}'\")\n",
        "            \n",
        "    @staticmethod\n",
        "    def resolve_categorical(data, column):\n",
        "        # Check if the column has any missing values\n",
        "        if data[column].isna().sum() > 0:\n",
        "            # If there are missing values, drop them\n",
        "            data.dropna(subset=[column], inplace=True)\n",
        "        \n",
        "        # Replace \"None\" with 0\n",
        "        data[column] = data[column].replace(\"None\", 0)\n",
        "        \n",
        "        # Count the categorical values\n",
        "        cat_counts = data[column].value_counts().to_dict()\n",
        "\n",
        "        # Replace the original values with their counts\n",
        "        data[column] = data[column].map(cat_counts)\n",
        "\n",
        "        # Verify the result\n",
        "        print(data[column].unique())\n",
        "\n",
        "\n",
        "    def convert_to_int(self, data, column):\n",
        "        # Check for non-numeric values\n",
        "        DataPreprocessor.check_non_numeric(data, column)\n",
        "\n",
        "        # Replace \"None\" with NaN\n",
        "        data[column] = data[column].replace(\"None\", 0)\n",
        "\n",
        "        # Convert the column to string\n",
        "        data[column] = data[column].astype(str)\n",
        "\n",
        "        # Remove commas from numbers\n",
        "        data[column] = data[column].str.replace(\",\", \"\")\n",
        "\n",
        "        # Convert the column to float\n",
        "        data[column] = data[column].astype(float)\n",
        "\n",
        "        # Replace NaN with 0\n",
        "        data[column] = data[column].fillna(0)\n",
        "\n",
        "        # Round down to the nearest integer\n",
        "        data[column] = data[column].apply(lambda x: math.floor(x))\n",
        "\n",
        "        # Convert to int\n",
        "        data[column] = data[column].astype(int)\n",
        "\n",
        "        # Verify the result\n",
        "        print(data[column].unique())\n",
        "        \n",
        "    def convert_to_float(self, data, column):\n",
        "        # Check for non-numeric values\n",
        "        DataPreprocessor.check_non_numeric(data, column)\n",
        "\n",
        "        # Replace \"None\" with NaN\n",
        "        data[column] = data[column].replace(\"None\", 0)\n",
        "\n",
        "\n",
        "        # Convert the column to string\n",
        "        data[column] = data[column].astype(str)\n",
        "\n",
        "        # Remove commas from numbers\n",
        "        data[column] = data[column].str.replace(\",\", \"\")\n",
        "\n",
        "        # Check for non-numeric values\n",
        "        DataPreprocessor.check_non_numeric(data, column)\n",
        "        \n",
        "        # Replace \"None\" with NaN\n",
        "        data[column] = data[column].replace(\"None\", np.nan)\n",
        "\n",
        "        # Convert the column to float\n",
        "        data[column] = data[column].astype(float)\n",
        "\n",
        "        # Replace NaN with 0\n",
        "        data[column] = data[column].fillna(0)\n",
        "\n",
        "        # Verify the result\n",
        "        print(data[column].unique())\n",
        "\n",
        "    def round_floats(self, data, column):\n",
        "        # Check if the column has any missing values\n",
        "        if data[column].isna().sum() > 0:\n",
        "            # If there are missing values, drop them\n",
        "            data.dropna(subset=[column], inplace=True)\n",
        "        \n",
        "        # Round floats to 2 decimal points or add 0 if only one\n",
        "        data[column] = data[column].apply(lambda x: '{:.2f}'.format(x) if isinstance(x, float) and x.is_integer() == False else '{:.2f}0'.format(x) if isinstance(x, float) and x.is_integer() else x)\n",
        "        \n",
        "        # Verify the result\n",
        "        print(data[column].unique())\n",
        "\n",
        "    def display_correlation_matrix(self, columns_to_check):\n",
        "      \n",
        "        # Calculate the correlation matrix\n",
        "        correlation_matrix = self.data[columns_to_check].corr()\n",
        "\n",
        "        fig, ax = plt.subplots(figsize=(10, 8))\n",
        "        im = ax.imshow(correlation_matrix, cmap='coolwarm')\n",
        "\n",
        "        # Display the colorbar\n",
        "        cbar = ax.figure.colorbar(im, ax=ax)\n",
        "\n",
        "        # Set the tick labels and axis labels\n",
        "        ax.set_xticks(np.arange(len(columns_to_check)))\n",
        "        ax.set_yticks(np.arange(len(columns_to_check)))\n",
        "        ax.set_xticklabels(columns_to_check, fontsize=12)\n",
        "        ax.set_yticklabels(columns_to_check, fontsize=12)\n",
        "        ax.set_xlabel('Features', fontsize=14)\n",
        "        ax.set_ylabel('Features', fontsize=14)\n",
        "\n",
        "        # Rotate the tick labels and set their alignment\n",
        "        plt.setp(ax.get_xticklabels(), rotation=45, ha=\"right\",\n",
        "                 rotation_mode=\"anchor\")\n",
        "\n",
        "        # Display the correlation values in the heatmap\n",
        "        for i in range(len(columns_to_check)):\n",
        "            for j in range(len(columns_to_check)):\n",
        "                text = ax.text(j, i, f'{correlation_matrix.iloc[i, j]:.2f}', ha=\"center\", va=\"center\", color=\"w\", fontsize=10)\n",
        "\n",
        "        # Set the title of the plot\n",
        "        ax.set_title(\"Correlation Matrix\", fontsize=16)\n",
        "\n",
        "        # Show the plot\n",
        "        plt.show()"
      ],
      "metadata": {
        "id": "ML236hnCSNJP"
      },
      "execution_count": 9,
      "outputs": []
    },
    {
      "cell_type": "code",
      "source": [
        "preprocessor = DataPreprocessor(data)"
      ],
      "metadata": {
        "id": "1zP6Gsr_SVvU"
      },
      "execution_count": 10,
      "outputs": []
    },
    {
      "cell_type": "code",
      "source": [
        "data['sold_price'] = preprocessor.remove_negative_sign(data['sold_price'])"
      ],
      "metadata": {
        "id": "2nWW3e_nSWfX"
      },
      "execution_count": 11,
      "outputs": []
    },
    {
      "cell_type": "code",
      "source": [
        "preprocessor.convert_to_float(data, 'sold_price')"
      ],
      "metadata": {
        "colab": {
          "base_uri": "https://localhost:8080/"
        },
        "id": "RJCifligSbUl",
        "outputId": "726b7806-a6bc-426c-cbfa-acf525b5637c"
      },
      "execution_count": 12,
      "outputs": [
        {
          "output_type": "stream",
          "name": "stdout",
          "text": [
            "No non-numeric values found in column 'sold_price'\n",
            "No non-numeric values found in column 'sold_price'\n",
            "[5300000. 4200000. 4500000. ...  539100.  534000.  526710.]\n"
          ]
        }
      ]
    },
    {
      "cell_type": "code",
      "source": [
        "preprocessor.convert_to_int(data, 'year_built')"
      ],
      "metadata": {
        "colab": {
          "base_uri": "https://localhost:8080/"
        },
        "id": "cD0dk4eTSemq",
        "outputId": "29eadc1b-8a5a-44be-d94a-cdca6128c194"
      },
      "execution_count": 13,
      "outputs": [
        {
          "output_type": "stream",
          "name": "stdout",
          "text": [
            "No non-numeric values found in column 'year_built'\n",
            "[1941 1997 1930 1995 1999 2001 2011 2002 2007 1935 2009 2015 2008 2010\n",
            " 1983 2005 1936 1998 2004 1985 2018 2019 2000    0 2012 2016 2003 1954\n",
            " 1994 2014 2017 1967 2013 1943 1953 2006 1968 1982 1981 1993 1989 1928\n",
            " 1900 1996 1977 1984 1992 1922 1952 1991 1959 1970 1911 1979 1986 1990\n",
            " 1974 1964 1925 1972 1987 1980 1988 1929 1951 1958 1973 1961 1946 1963\n",
            " 1969 1976 1947 1971 1940 1948 1937 1965 1966 1978 1960 1934 1956 1907\n",
            " 1938 1950 1955 1932 1939 1957 1893 1962 1975 1924 1901 1949 1902 1942\n",
            " 1945 1923 1913 1944 1931 1918 1921 1926 1919 1914 1917 1910 1905 1927]\n"
          ]
        }
      ]
    },
    {
      "cell_type": "code",
      "source": [
        "preprocessor.convert_to_int(data, 'bathrooms')"
      ],
      "metadata": {
        "colab": {
          "base_uri": "https://localhost:8080/"
        },
        "id": "gB1IGRb9Slk7",
        "outputId": "008b9d9e-1805-4f51-988f-ddcffe9e16bb"
      },
      "execution_count": 14,
      "outputs": [
        {
          "output_type": "stream",
          "name": "stdout",
          "text": [
            "Found non-numeric values in column 'bathrooms':\n",
            "          MLS  sold_price  zipcode   longitude   latitude  lot_acres    taxes  \\\n",
            "2025  3044867    660000.0    85614 -110.969465  31.836723       3.60  5526.00   \n",
            "2766  3042851    575000.0    85614 -110.960497  31.854446       0.87  4623.05   \n",
            "3108  3047540    610000.0    85614 -111.002544  31.840061       1.70  3800.00   \n",
            "3529  3046317    535000.0    85614 -110.986426  31.806614       4.27  3826.25   \n",
            "3822  3045347    550000.0    85614 -111.008754  31.841141       0.99  3702.07   \n",
            "4812  3046287    500000.0    85646 -111.051431  31.636207       1.03  8102.00   \n",
            "\n",
            "      year_built  bedrooms bathrooms sqrt_ft garage  \\\n",
            "2025        2007         3      None    None      3   \n",
            "2766        2002         3      None    None      3   \n",
            "3108        2007         3      None    None      3   \n",
            "3529        2006         2      None    None      3   \n",
            "3822        2007         2      None    None      3   \n",
            "4812        1999         4      None    None      2   \n",
            "\n",
            "                                       kitchen_features  fireplaces  \\\n",
            "2025  Desk, Dishwasher, Garbage Disposal, Gas Range,...         1.0   \n",
            "2766  Dishwasher, Garbage Disposal, Gas Range, Islan...         1.0   \n",
            "3108                                               None         1.0   \n",
            "3529  Dishwasher, Garbage Disposal, Gas Range, Islan...         1.0   \n",
            "3822  Dishwasher, Garbage Disposal, Island, Lazy Sus...         1.0   \n",
            "4812  Dishwasher, Electric Range, Garbage Disposal, ...         1.0   \n",
            "\n",
            "                 floor_covering    HOA  \n",
            "2025  Carpet, Other: Tile-Other  1,000  \n",
            "2766              Carpet, Other    250  \n",
            "3108                       None  1,200  \n",
            "3529  Carpet, Other: Tile-Other   None  \n",
            "3822  Carpet, Other: Tile-Other  1,200  \n",
            "4812       Carpet, Mexican Tile    250  \n",
            "[10  2  3  5  6  4  8  7 15  1  9 11 18 14  0 35 36]\n"
          ]
        }
      ]
    },
    {
      "cell_type": "code",
      "source": [
        "preprocessor.convert_to_int(data, 'garage')"
      ],
      "metadata": {
        "colab": {
          "base_uri": "https://localhost:8080/"
        },
        "id": "4EA_IxtkSnPO",
        "outputId": "ec5c9424-af24-4540-9e32-e64cbd84e2bf"
      },
      "execution_count": 15,
      "outputs": [
        {
          "output_type": "stream",
          "name": "stdout",
          "text": [
            "Found non-numeric values in column 'garage':\n",
            "          MLS  sold_price  zipcode   longitude   latitude  lot_acres  \\\n",
            "2     3054672   4200000.0    85646 -111.040707  31.594844    1707.00   \n",
            "263   4115554   1200000.0    85646 -111.040612  31.594683      91.70   \n",
            "590   4113651    900000.0    85646 -111.037399  31.574636      34.45   \n",
            "2106  3056848    550000.0    85645 -111.047608  31.700763      50.00   \n",
            "4273  3056944    490000.0    85601 -111.299661  31.584170      38.98   \n",
            "4275  4116010    490000.0    85601 -111.299663  31.584173      38.98   \n",
            "4999  4111490    450000.0    85621 -110.913054  31.385259       4.16   \n",
            "\n",
            "         taxes  year_built  bedrooms  bathrooms sqrt_ft garage  \\\n",
            "2     10482.00        1997         2          3    None   None   \n",
            "263    8473.86        1925         6          5    6884   None   \n",
            "590    3354.10        1964         3          3    2759   None   \n",
            "2106  25113.45        1936        36         35    None   None   \n",
            "4273   5739.00        1977         4          3    None   None   \n",
            "4275   5739.00        1977         4          3    2811   None   \n",
            "4999   2814.48        1988         4          4    4317   None   \n",
            "\n",
            "                                       kitchen_features  fireplaces  \\\n",
            "2            Dishwasher, Garbage Disposal, Refrigerator         5.0   \n",
            "263   Dishwasher, Double Sink, Island, Prep Sink, Re...         7.0   \n",
            "590   Dishwasher, Double Sink, Garbage Disposal, Ref...         2.0   \n",
            "2106                                          Prep Sink         1.0   \n",
            "4273  Dishwasher, Double Sink, Electric Range, Garba...         1.0   \n",
            "4275  Dishwasher, Double Sink, Electric Range, Garba...         1.0   \n",
            "4999  Compactor, Dishwasher, Double Sink, Island, Ap...         3.0   \n",
            "\n",
            "                  floor_covering   HOA  \n",
            "2     Natural Stone, Other: Rock  None  \n",
            "263             Carpet, Concrete  None  \n",
            "590                     Concrete  None  \n",
            "2106  Ceramic Tile, Mexican Tile  None  \n",
            "4273               Carpet, Vinyl  None  \n",
            "4275               Carpet, Vinyl  None  \n",
            "4999        Carpet, Mexican Tile  None  \n",
            "[ 0  4  3  5  2  6 15  8  7  1  9 22 30 12 10 11 20 13]\n"
          ]
        }
      ]
    },
    {
      "cell_type": "code",
      "source": [
        "preprocessor.convert_to_int(data, 'sqrt_ft')"
      ],
      "metadata": {
        "colab": {
          "base_uri": "https://localhost:8080/"
        },
        "id": "ELWgCDAFSozM",
        "outputId": "21b1be89-7ff8-4321-b29f-5f450eea7477"
      },
      "execution_count": 16,
      "outputs": [
        {
          "output_type": "stream",
          "name": "stdout",
          "text": [
            "Found non-numeric values in column 'sqrt_ft':\n",
            "          MLS  sold_price  zipcode   longitude   latitude  lot_acres  \\\n",
            "2     3054672   4200000.0    85646 -111.040707  31.594844    1707.00   \n",
            "490   3055989    950000.0    85646 -111.073405  31.619537       4.40   \n",
            "967   3058213    695000.0    85645 -111.183593  31.702330       0.99   \n",
            "1064  3056708    785045.0    85646 -110.942060  31.552399      73.42   \n",
            "1373  3059704    750000.0    85622 -111.001762  31.841975       2.72   \n",
            "1659  3055188    700000.0    85646 -111.046366  31.623839       0.99   \n",
            "1728  3057818    565000.0    85646 -111.050885  31.627210       0.72   \n",
            "1729  3044500    675000.0    85629 -110.961128  31.869810       1.02   \n",
            "1730  3053678    700000.0    85645 -111.239637  31.662369     172.76   \n",
            "1731  3059581    715000.0    85622 -111.040615  31.804808       4.72   \n",
            "1863  3052969    750000.0    85622 -111.002640  31.846861       4.58   \n",
            "2025  3044867    660000.0    85614 -110.969465  31.836723       3.60   \n",
            "2106  3056848    550000.0    85645 -111.047608  31.700763      50.00   \n",
            "2108  3059493    705000.0    85614 -110.960333  31.854886       1.06   \n",
            "2357  3060312    690000.0    85646 -111.052693  31.630004       1.85   \n",
            "2401  3062128    685000.0    85614 -110.961349  31.856615       1.10   \n",
            "2447  3057749    620000.0    85646 -111.066782  31.601831      10.31   \n",
            "2564  3051223    680000.0    85622 -111.000925  31.836922       0.99   \n",
            "2635  3060713    650000.0    85646 -111.043573  31.633469       0.90   \n",
            "2636  3050955    565000.0    85622 -111.000616  31.843046       2.74   \n",
            "2766  3042851    575000.0    85614 -110.960497  31.854446       0.87   \n",
            "2876  3059328    560100.0    85646 -111.050957  31.626585       0.78   \n",
            "2915  3055533    625000.0    85614 -110.974513  31.836495       2.01   \n",
            "2917  3055386    580000.0    85629 -110.941544  31.879379       0.27   \n",
            "2932  3052988    625000.0    85614 -110.960215  31.857286       0.97   \n",
            "2939  3060029    655000.0    85614 -110.971212  31.835117       0.99   \n",
            "3108  3047540    610000.0    85614 -111.002544  31.840061       1.70   \n",
            "3299  3047349    540000.0    85646 -111.051221  31.631630       0.90   \n",
            "3372  3061474    600000.0    85646 -111.027596  31.648478      10.00   \n",
            "3404  3061325    625000.0    85614 -110.963597  31.848245       1.38   \n",
            "3420  3059875    605000.0    85622 -111.009941  31.839620       0.99   \n",
            "3529  3046317    535000.0    85614 -110.986426  31.806614       4.27   \n",
            "3530  3050480    580000.0    85622 -111.007069  31.846199       0.99   \n",
            "3531  3054250    630000.0    85622 -111.012511  31.843514       2.98   \n",
            "3556  3054492    624900.0    85614 -110.943269  31.880472       0.25   \n",
            "3620  3056206    580000.0    85614 -110.975396  31.830974       6.52   \n",
            "3647  3061363    606000.0    85614 -110.970832  31.842606       1.54   \n",
            "3672  3061172    610000.0    85622 -111.007363  31.841543       1.58   \n",
            "3818  3052078    570000.0    85622 -111.013274  31.841175       1.00   \n",
            "3819  3060897    570000.0    85614 -110.978669  31.832586       4.00   \n",
            "3822  3045347    550000.0    85614 -111.008754  31.841141       0.99   \n",
            "3983  3050843    579000.0    85622 -111.005401  31.838947       1.60   \n",
            "3984  3052794    540000.0    85622 -111.001859  31.837066       0.95   \n",
            "4003  3059616    600000.0    85614 -110.978365  31.823326       3.00   \n",
            "4020  3059457    585000.0    85614 -110.942704  31.897662       0.21   \n",
            "4173  3059167    550000.0    85614 -110.940656  31.878329       0.99   \n",
            "4273  3056944    490000.0    85601 -111.299661  31.584170      38.98   \n",
            "4286  3050688    584165.0    85622 -111.039164  31.790671       0.99   \n",
            "4365  3053499    545000.0    85614 -110.978688  31.832598       0.99   \n",
            "4662  3051343    544000.0    85622 -111.004190  31.835595       1.00   \n",
            "4723  3053192    540000.0    85614 -110.970464  31.837728       2.08   \n",
            "4724  3055336    510000.0    85646 -111.091642  31.582936       7.00   \n",
            "4783  3058623    530000.0    85622 -111.009020  31.839576       0.99   \n",
            "4812  3046287    500000.0    85646 -111.051431  31.636207       1.03   \n",
            "4991  3052471    525000.0    85622 -111.038888  31.791324       0.95   \n",
            "4992  3056450    525000.0    85614 -110.980945  31.824287       3.01   \n",
            "\n",
            "         taxes  year_built  bedrooms  bathrooms sqrt_ft  garage  \\\n",
            "2     10482.00        1997         2          3    None       0   \n",
            "490   13193.80        2008         3          7    None       4   \n",
            "967    2480.58        1932         4          4    None       2   \n",
            "1064  20761.40        2000         2          6    None       2   \n",
            "1373   7169.90        1995         6          7    None       3   \n",
            "1659   6740.66        2007         3          4    None       3   \n",
            "1728   4651.00        1969         3          3    None       2   \n",
            "1729   4662.64        2007         3          4    None       3   \n",
            "1730   7501.42        2000         3          3    None       2   \n",
            "1731   3841.03        1998         4          5    None       5   \n",
            "1863   4578.00        1977         5          4    None       4   \n",
            "2025   5526.00        2007         3          0    None       3   \n",
            "2106  25113.45        1936        36         35    None       0   \n",
            "2108   6628.17        2007         5          4    None       4   \n",
            "2357   4884.00        1997         3          4    None       3   \n",
            "2401   5898.42        2006         3          4    None       3   \n",
            "2447   5365.14        2004         3          4    None       3   \n",
            "2564   4158.40        2007         3          4    None       3   \n",
            "2635   4235.00        1985         3          3    None       2   \n",
            "2636   3787.80        1992         2          3    None       2   \n",
            "2766   4623.05        2002         3          0    None       3   \n",
            "2876   4716.00        1999         3          3    None       2   \n",
            "2915   5605.00        2007         3          4    None       3   \n",
            "2917    765.87        2014         2          3    None       3   \n",
            "2932   5518.75        2007         3          3    None       3   \n",
            "2939   6433.00        2001         3          4    None       3   \n",
            "3108   3800.00        2007         3          0    None       3   \n",
            "3299   8590.38        1989         4          4    None       3   \n",
            "3372   2903.76        1987         4          3    None       2   \n",
            "3404   5947.00        1998         4          4    None       2   \n",
            "3420   6134.56        2012         4          4    None       2   \n",
            "3529   3826.25        2006         2          0    None       3   \n",
            "3530   4498.01        1987         3          3    None       5   \n",
            "3531   7248.68        1976         3          4    None       3   \n",
            "3556    302.26        2013         3          4    None       3   \n",
            "3620   5902.03        2004         4          3    None       3   \n",
            "3647   2016.00        2003         3          3    None       3   \n",
            "3672   5461.97        2006         4          4    None       3   \n",
            "3818   3377.68        2003         3          3    None       3   \n",
            "3819   5222.20        2001         3          3    None       3   \n",
            "3822   3702.07        2007         2          0    None       3   \n",
            "3983   3689.00        2007         2          3    None       3   \n",
            "3984   4093.07        2006         3          4    None       3   \n",
            "4003   5493.00        2010         3          3    None       2   \n",
            "4020   4578.68        2011         4          5    None       2   \n",
            "4173   5630.10        2013         3          4    None       3   \n",
            "4273   5739.00        1977         4          3    None       0   \n",
            "4286    653.47        2012         2          2    None       3   \n",
            "4365   4817.00        2001         3          3    None       3   \n",
            "4662   3275.00        1985         3          3    None       2   \n",
            "4723   5077.95        2007         4          3    None       3   \n",
            "4724   4405.70        1995         3          3    None       2   \n",
            "4783   5264.34        2009         3          4    None       2   \n",
            "4812   8102.00        1999         4          0    None       2   \n",
            "4991   3919.93        2010         3          3    None       3   \n",
            "4992   5122.84        2007         3          3    None       3   \n",
            "\n",
            "                                       kitchen_features  fireplaces  \\\n",
            "2            Dishwasher, Garbage Disposal, Refrigerator         5.0   \n",
            "490   Compactor, Dishwasher, Double Sink, Pantry: Bu...         3.0   \n",
            "967   Dishwasher, Double Sink, Gas Range, Refrigerat...         1.0   \n",
            "1064  Compactor, Dishwasher, Double Sink, Garbage Di...         7.0   \n",
            "1373  Desk, Dishwasher, Double Sink, Garbage Disposa...         3.0   \n",
            "1659  Dishwasher, Double Sink, Freezer, Garbage Disp...         1.0   \n",
            "1728  Desk, Dishwasher, Electric Range, Garbage Disp...         3.0   \n",
            "1729  Desk, Dishwasher, Garbage Disposal, Gas Range,...         1.0   \n",
            "1730  Dishwasher, Electric Range, Garbage Disposal, ...         1.0   \n",
            "1731  Double Sink, Electric Range, Garbage Disposal,...         2.0   \n",
            "1863  Dishwasher, Double Sink, Garbage Disposal, Gas...         1.0   \n",
            "2025  Desk, Dishwasher, Garbage Disposal, Gas Range,...         1.0   \n",
            "2106                                          Prep Sink         1.0   \n",
            "2108  Dishwasher, Double Sink, Garbage Disposal, Gas...         2.0   \n",
            "2357  Dishwasher, Double Sink, Garbage Disposal, Gas...         1.0   \n",
            "2401  Dishwasher, Double Sink, Garbage Disposal, Isl...         2.0   \n",
            "2447  Compactor, Dishwasher, Double Sink, Garbage Di...         3.0   \n",
            "2564  Dishwasher, Double Sink, Garbage Disposal, Gas...         1.0   \n",
            "2635  Dishwasher, Electric Range, Garbage Disposal, ...         1.0   \n",
            "2636  Compactor, Dishwasher, Double Sink, Electric R...         2.0   \n",
            "2766  Dishwasher, Garbage Disposal, Gas Range, Islan...         1.0   \n",
            "2876  Dishwasher, Double Sink, Garbage Disposal, Ref...         1.0   \n",
            "2915  Dishwasher, Garbage Disposal, Gas Range, Islan...         2.0   \n",
            "2917  Dishwasher, Garbage Disposal, Gas Range, Islan...         1.0   \n",
            "2932  Dishwasher, Double Sink, Garbage Disposal, Gas...         1.0   \n",
            "2939  Dishwasher, Double Sink, Electric Range, Garba...         1.0   \n",
            "3108                                               None         1.0   \n",
            "3299  Compactor, Dishwasher, Garbage Disposal, Gas R...         3.0   \n",
            "3372  Dishwasher, Double Sink, Pantry: Cabinet, Refr...         3.0   \n",
            "3404  Compactor, Dishwasher, Garbage Disposal, Gas R...         1.0   \n",
            "3420  Compactor, Dishwasher, Double Sink, Garbage Di...         1.0   \n",
            "3529  Dishwasher, Garbage Disposal, Gas Range, Islan...         1.0   \n",
            "3530  Dishwasher, Double Sink, Electric Range, Garba...         1.0   \n",
            "3531  Compactor, Desk, Dishwasher, Double Sink, Elec...         2.0   \n",
            "3556  Dishwasher, Electric Range, Garbage Disposal, ...         1.0   \n",
            "3620  Dishwasher, Garbage Disposal, Gas Range, Pantr...         2.0   \n",
            "3647  Dishwasher, Garbage Disposal, Gas Range, Islan...         1.0   \n",
            "3672  Dishwasher, Double Sink, Garbage Disposal, Gas...         3.0   \n",
            "3818  Dishwasher, Double Sink, Garbage Disposal, Gas...         1.0   \n",
            "3819  Dishwasher, Double Sink, Garbage Disposal, Gas...         2.0   \n",
            "3822  Dishwasher, Garbage Disposal, Island, Lazy Sus...         1.0   \n",
            "3983  Compactor, Dishwasher, Garbage Disposal, Gas R...         2.0   \n",
            "3984  Dishwasher, Double Sink, Garbage Disposal, Gas...         1.0   \n",
            "4003  Dishwasher, Double Sink, Electric Range, Garba...         1.0   \n",
            "4020  Desk, Dishwasher, Double Sink, Electric Range,...         2.0   \n",
            "4173  Dishwasher, Double Sink, Electric Range, Garba...         1.0   \n",
            "4273  Dishwasher, Double Sink, Electric Range, Garba...         1.0   \n",
            "4286  Dishwasher, Double Sink, Pantry: Closet, Count...         1.0   \n",
            "4365  Dishwasher, Double Sink, Garbage Disposal, Gas...         1.0   \n",
            "4662  Desk, Dishwasher, Double Sink, Garbage Disposa...         2.0   \n",
            "4723  Dishwasher, Double Sink, Garbage Disposal, Gas...         2.0   \n",
            "4724  Compactor, Dishwasher, Double Sink, Electric R...         1.0   \n",
            "4783  Dishwasher, Double Sink, Garbage Disposal, Gas...         1.0   \n",
            "4812  Dishwasher, Electric Range, Garbage Disposal, ...         1.0   \n",
            "4991  Dishwasher, Double Sink, Electric Range, Garba...         1.0   \n",
            "4992  Dishwasher, Garbage Disposal, Gas Range, Refri...         1.0   \n",
            "\n",
            "                                     floor_covering    HOA  \n",
            "2                        Natural Stone, Other: Rock   None  \n",
            "490                       Mexican Tile, Wood, Other   None  \n",
            "967                                    Ceramic Tile   None  \n",
            "1064                             Ceramic Tile, Wood   None  \n",
            "1373                                   Ceramic Tile   None  \n",
            "1659                                  Natural Stone    157  \n",
            "1728              Mexican Tile, Natural Stone, Wood     21  \n",
            "1729  Carpet, Mexican Tile, Wood, Other: Tile-Other  149.5  \n",
            "1730             Carpet, Ceramic Tile, Mexican Tile   None  \n",
            "1731                           Carpet, Ceramic Tile   None  \n",
            "1863       Natural Stone, Other: Travertine & Slate   None  \n",
            "2025                      Carpet, Other: Tile-Other  1,000  \n",
            "2106                     Ceramic Tile, Mexican Tile   None  \n",
            "2108  Ceramic Tile, Wood, Other: Travertine Accents  16.66  \n",
            "2357                                   Ceramic Tile     21  \n",
            "2401                           Carpet, Ceramic Tile  16.67  \n",
            "2447                             Ceramic Tile, Wood   None  \n",
            "2564                           Carpet, Ceramic Tile    100  \n",
            "2635                           Carpet, Ceramic Tile     22  \n",
            "2636                                   Mexican Tile   None  \n",
            "2766                                  Carpet, Other    250  \n",
            "2876                           Carpet, Mexican Tile     21  \n",
            "2915                 Wood, Other: Travertine/Marble  83.34  \n",
            "2917                             Ceramic Tile, Wood    148  \n",
            "2932                  Carpet, Other: Porcelain Tile  16.66  \n",
            "2939                           Carpet, Ceramic Tile  83.33  \n",
            "3108                                           None  1,200  \n",
            "3299                              Other: Tile-Other    250  \n",
            "3372                           Carpet, Ceramic Tile   None  \n",
            "3404   Carpet, Ceramic Tile, Other: Travertine tile     17  \n",
            "3420                           Carpet, Ceramic Tile     85  \n",
            "3529                      Carpet, Other: Tile-Other   None  \n",
            "3530                           Carpet, Mexican Tile   None  \n",
            "3531   Carpet, Ceramic Tile, Other: Brick in Studio   None  \n",
            "3556                                   Ceramic Tile    158  \n",
            "3620                           Carpet, Ceramic Tile  33.33  \n",
            "3647                           Carpet, Ceramic Tile     83  \n",
            "3672                           Carpet, Ceramic Tile   None  \n",
            "3818              Concrete, Other: Stained concrete   2.08  \n",
            "3819                           Carpet, Ceramic Tile  35.83  \n",
            "3822                      Carpet, Other: Tile-Other  1,200  \n",
            "3983                           Carpet, Ceramic Tile    100  \n",
            "3984       Ceramic Tile, Other: 20 x 20 on Diagonal    100  \n",
            "4003                                       Concrete     37  \n",
            "4020                           Carpet, Ceramic Tile    158  \n",
            "4173                           Carpet, Ceramic Tile    158  \n",
            "4273                                  Carpet, Vinyl   None  \n",
            "4286                                   Ceramic Tile   None  \n",
            "4365                      Carpet, Other: Travertine  33.33  \n",
            "4662                           Carpet, Ceramic Tile   2.08  \n",
            "4723                           Carpet, Ceramic Tile  83.34  \n",
            "4724                            Natural Stone, Wood    150  \n",
            "4783                                   Ceramic Tile     85  \n",
            "4812                           Carpet, Mexican Tile    250  \n",
            "4991                          Carpet, Other: Marble  78.65  \n",
            "4992                          Concrete, Other: Cork     37  \n",
            "[10500  7300     0 ...  2106  3601  1772]\n"
          ]
        }
      ]
    },
    {
      "cell_type": "code",
      "source": [
        "# check the unique values present in the column and investigate if there are any non-numeric values\n",
        "data['kitchen_features'].unique()"
      ],
      "metadata": {
        "colab": {
          "base_uri": "https://localhost:8080/"
        },
        "id": "MmSSAuRjSubs",
        "outputId": "918c0668-db2d-42c0-e25a-094f2202cefa"
      },
      "execution_count": 17,
      "outputs": [
        {
          "output_type": "execute_result",
          "data": {
            "text/plain": [
              "array(['Dishwasher, Freezer, Refrigerator, Oven',\n",
              "       'Dishwasher, Garbage Disposal',\n",
              "       'Dishwasher, Garbage Disposal, Refrigerator', ...,\n",
              "       'Dishwasher, Electric Range, Island, Refrigerator, Reverse Osmosis, Appliance Color: Stainless',\n",
              "       'Dishwasher, Double Sink, Garbage Disposal, Gas Range, Pantry: Cabinet, Appliance Color: Stainless, Countertops: Granite slab, Microwave: Stainless over oven, Oven: wall',\n",
              "       'Compactor, Dishwasher, Double Sink, Island, Appliance Color: Stainless'],\n",
              "      dtype=object)"
            ]
          },
          "metadata": {},
          "execution_count": 17
        }
      ]
    },
    {
      "cell_type": "code",
      "source": [
        "preprocessor.convert_to_float(data, 'taxes')"
      ],
      "metadata": {
        "colab": {
          "base_uri": "https://localhost:8080/"
        },
        "id": "XQiOB4AsShiX",
        "outputId": "468a7582-7a62-4ab1-a5bf-70cc2ae262a2"
      },
      "execution_count": 18,
      "outputs": [
        {
          "output_type": "stream",
          "name": "stdout",
          "text": [
            "No non-numeric values found in column 'taxes'\n",
            "No non-numeric values found in column 'taxes'\n",
            "[ 5272.   10422.36 10482.   ...  1000.    5822.93  2814.48]\n"
          ]
        }
      ]
    },
    {
      "cell_type": "code",
      "source": [
        "# Example usage on kitchen_features column\n",
        "preprocessor.resolve_categorical(data, 'kitchen_features')\n",
        "kitchen_features = data['kitchen_features'].unique()\n",
        "data['kitchen_features_values'] = data['kitchen_features'].map({feature: i for i, feature in enumerate(kitchen_features)})"
      ],
      "metadata": {
        "colab": {
          "base_uri": "https://localhost:8080/"
        },
        "id": "6LI5K0TRSwgS",
        "outputId": "6203d4b5-7813-44ba-fbe6-156b1f1dedf7"
      },
      "execution_count": 19,
      "outputs": [
        {
          "output_type": "stream",
          "name": "stdout",
          "text": [
            "[   2   21   68    1 1719   71   22  189  127   97  181    5    9    4\n",
            "    3   17    7   15   33  270   27   11   14   12   19   10    6   24\n",
            "    8]\n"
          ]
        }
      ]
    },
    {
      "cell_type": "code",
      "source": [
        "# Example usage on kitchen_features column\n",
        "preprocessor.resolve_categorical(data, 'floor_covering')\n",
        "floor_covering = data['floor_covering'].unique()\n",
        "data['floor_covering_values'] = data['floor_covering'].map({feature: i for i, feature in enumerate(floor_covering)})"
      ],
      "metadata": {
        "colab": {
          "base_uri": "https://localhost:8080/"
        },
        "id": "I9pmndXxuNv5",
        "outputId": "636c50db-f42c-48b9-9e2c-2cb55a339cb7"
      },
      "execution_count": 20,
      "outputs": [
        {
          "output_type": "stream",
          "name": "stdout",
          "text": [
            "[  29    4    1    3   87   11  211   12   14  147  101  579   15  120\n",
            "  242   67   45  247    2   19   13   27   92   31   41   23 1235  258\n",
            "   44   57   25    8  115   16   30    7   10   22    6   33   37   21\n",
            "   24   20    5    9]\n"
          ]
        }
      ]
    },
    {
      "cell_type": "code",
      "source": [
        "# check the unique values present in the column and investigate if there are any non-numeric values\n",
        "data['floor_covering'].unique()"
      ],
      "metadata": {
        "colab": {
          "base_uri": "https://localhost:8080/"
        },
        "id": "v_Z50-BpS6Jt",
        "outputId": "187e04b8-73fe-41b5-b99e-ebe77df11229"
      },
      "execution_count": 21,
      "outputs": [
        {
          "output_type": "execute_result",
          "data": {
            "text/plain": [
              "array([  29,    4,    1,    3,   87,   11,  211,   12,   14,  147,  101,\n",
              "        579,   15,  120,  242,   67,   45,  247,    2,   19,   13,   27,\n",
              "         92,   31,   41,   23, 1235,  258,   44,   57,   25,    8,  115,\n",
              "         16,   30,    7,   10,   22,    6,   33,   37,   21,   24,   20,\n",
              "          5,    9])"
            ]
          },
          "metadata": {},
          "execution_count": 21
        }
      ]
    },
    {
      "cell_type": "code",
      "source": [
        "preprocessor.convert_to_int(data, 'HOA')"
      ],
      "metadata": {
        "colab": {
          "base_uri": "https://localhost:8080/"
        },
        "id": "F36uR-XWTAit",
        "outputId": "76955e39-2bac-49a9-a1d0-283f5f92a224"
      },
      "execution_count": 22,
      "outputs": [
        {
          "output_type": "stream",
          "name": "stdout",
          "text": [
            "Found non-numeric values in column 'HOA':\n",
            "           MLS  sold_price  zipcode   longitude   latitude  lot_acres  \\\n",
            "2      3054672   4200000.0    85646 -111.040707  31.594844    1707.00   \n",
            "3     21919321   4500000.0    85646 -111.035925  31.645878     636.67   \n",
            "10    21900396   2776518.0    85640 -111.045441  31.562121     147.18   \n",
            "14    21534099   3000000.0    85739 -110.883068  32.508778       0.00   \n",
            "26    21830939   2600000.0    85739 -110.883055  32.508861       0.15   \n",
            "...        ...         ...      ...         ...        ...        ...   \n",
            "4990  21906583    526710.0    85748 -110.728390  32.221871       9.18   \n",
            "4995  21810382    495000.0    85641 -110.661829  31.907917       4.98   \n",
            "4997  21832452    475000.0    85192 -110.755428  32.964708      12.06   \n",
            "4998  21900515    550000.0    85745 -111.055528  32.296871       1.01   \n",
            "4999   4111490    450000.0    85621 -110.913054  31.385259       4.16   \n",
            "\n",
            "         taxes  year_built  bedrooms  bathrooms  sqrt_ft  garage  \\\n",
            "2     10482.00        1997         2          3        0       0   \n",
            "3      8418.58        1930         7          5     9019       4   \n",
            "10     7330.36        1935         5          5     5067       5   \n",
            "14    29669.00        2008         3          3     3095       0   \n",
            "26    30072.26        2008         3          3     3095       0   \n",
            "...        ...         ...       ...        ...      ...     ...   \n",
            "4990   3390.67        1960         4          3     2284       0   \n",
            "4995   2017.00        2005         5          3     3601       3   \n",
            "4997   1000.00        1969         3          2     1772       0   \n",
            "4998   5822.93        2009         4          4     3724       3   \n",
            "4999   2814.48        1988         4          4     4317       0   \n",
            "\n",
            "      kitchen_features  fireplaces  floor_covering     HOA  \\\n",
            "2                   68         5.0               1    None   \n",
            "3                    1         4.0               3    None   \n",
            "10                   1         5.0              12    None   \n",
            "14                1719         3.0             101  20,000   \n",
            "26                   1         3.0             101   1,717   \n",
            "...                ...         ...             ...     ...   \n",
            "4990                 1         1.0              31    None   \n",
            "4995                 1         1.0            1235    None   \n",
            "4997                 1         0.0             247    None   \n",
            "4998                 1         1.0            1235    None   \n",
            "4999                 1         3.0             211    None   \n",
            "\n",
            "      kitchen_features_values  floor_covering_values  \n",
            "2                           2                      2  \n",
            "3                           3                      3  \n",
            "10                          3                      7  \n",
            "14                          4                     10  \n",
            "26                          3                     10  \n",
            "...                       ...                    ...  \n",
            "4990                        3                     23  \n",
            "4995                        3                     26  \n",
            "4997                        3                     17  \n",
            "4998                        3                     26  \n",
            "4999                        3                      6  \n",
            "\n",
            "[580 rows x 18 columns]\n",
            "[    0    55   422   220   421   141   357   148 20000   142   173   167\n",
            "   123   300   194  1717   342   240   437   112   199   178   550   258\n",
            "   188   169   124   320   213   153   105   159   193    69   208    50\n",
            "   168   191    79   157   323  1100   250   158   127   149    83   118\n",
            "   219    88   180   259   128   117    48   130   132   135   152    33\n",
            "   143     5   129   171   273   162   131   134   211   203   190   145\n",
            "    63   177    57   115   166   184   164   125   216   195   106   214\n",
            "   238   212     4    30   150    19   160   138   146  1270    15    95\n",
            " 19480   116   311    94    21   295   243    23    34   215    41    18\n",
            "   110   233   322    43   232   100   133   202   700   121    40    51\n",
            "   179    58   102   175    97    25   139   120   137    53  2000   242\n",
            "    49   333   270    84     8   165   506    35    64   108   187   186\n",
            "  1600    12   209   107    45    52    42    22    96    93   122   200\n",
            "   241   161    37   119   155   299   154   170   221   303   140   425\n",
            "   172    68    75    71    44     6   285    67    54     9   113    17\n",
            "   192  1010    78   609    26    16    11    39   144    56   156   263\n",
            "    92    60    76    70   516   343    72   126    80   247    20   114\n",
            "    73   317    36  1290   147    32    10   332   198   205   174   249\n",
            "    38    66     2   103    13   185   111    98    74    59    89    85\n",
            "    62   151   225    65    86   109   101    81    24    77  1769    47\n",
            "   257   269    99   390     3     7    87    90  1000   275   267   183\n",
            "   136   290   330    46   176     1   226   283    82    91   252    14\n",
            "    29   324   325  5900   350  8333   765   253  1200    31   189   487\n",
            "   328   368    61   750   337   925   500   234    28   104   294   210]\n"
          ]
        }
      ]
    },
    {
      "cell_type": "code",
      "source": [
        "data.dtypes"
      ],
      "metadata": {
        "colab": {
          "base_uri": "https://localhost:8080/"
        },
        "id": "sc0Yx7u3TEi3",
        "outputId": "37a3913c-64d0-4086-e7a2-77140eb6cee2"
      },
      "execution_count": 23,
      "outputs": [
        {
          "output_type": "execute_result",
          "data": {
            "text/plain": [
              "MLS                          int64\n",
              "sold_price                 float64\n",
              "zipcode                      int64\n",
              "longitude                  float64\n",
              "latitude                   float64\n",
              "lot_acres                  float64\n",
              "taxes                      float64\n",
              "year_built                   int64\n",
              "bedrooms                     int64\n",
              "bathrooms                    int64\n",
              "sqrt_ft                      int64\n",
              "garage                       int64\n",
              "kitchen_features             int64\n",
              "fireplaces                 float64\n",
              "floor_covering               int64\n",
              "HOA                          int64\n",
              "kitchen_features_values      int64\n",
              "floor_covering_values        int64\n",
              "dtype: object"
            ]
          },
          "metadata": {},
          "execution_count": 23
        }
      ]
    },
    {
      "cell_type": "code",
      "source": [
        "# Check for missing values\n",
        "print(data.isnull().sum())"
      ],
      "metadata": {
        "colab": {
          "base_uri": "https://localhost:8080/"
        },
        "id": "uxame2DhKLKP",
        "outputId": "5cae3d14-47bb-4704-dba3-d8d50385025c"
      },
      "execution_count": 24,
      "outputs": [
        {
          "output_type": "stream",
          "name": "stdout",
          "text": [
            "MLS                        0\n",
            "sold_price                 0\n",
            "zipcode                    0\n",
            "longitude                  0\n",
            "latitude                   0\n",
            "lot_acres                  0\n",
            "taxes                      0\n",
            "year_built                 0\n",
            "bedrooms                   0\n",
            "bathrooms                  0\n",
            "sqrt_ft                    0\n",
            "garage                     0\n",
            "kitchen_features           0\n",
            "fireplaces                 0\n",
            "floor_covering             0\n",
            "HOA                        0\n",
            "kitchen_features_values    0\n",
            "floor_covering_values      0\n",
            "dtype: int64\n"
          ]
        }
      ]
    },
    {
      "cell_type": "code",
      "source": [
        "# Create a Linear Regression class\n",
        "class LinearRegression:\n",
        "    def __init__(self, learning_rate=0.01, n_iterations=1000):\n",
        "        self.learning_rate = learning_rate\n",
        "        self.n_iterations = n_iterations\n",
        "\n",
        "    def fit(self, X, y):\n",
        "        n_samples, n_features = X.shape\n",
        "        self.weights = np.zeros(n_features)\n",
        "        self.bias = 0\n",
        "\n",
        "        for i in range(self.n_iterations):\n",
        "            y_pred = np.dot(X, self.weights) + self.bias\n",
        "            dw = (1 / n_samples) * np.dot(X.T, (y_pred - y))\n",
        "            db = (1 / n_samples) * np.sum(y_pred - y)\n",
        "            self.weights -= self.learning_rate * dw\n",
        "            self.bias -= self.learning_rate * db\n",
        "\n",
        "    def predict(self, X):\n",
        "        return np.dot(X, self.weights) + self.bias"
      ],
      "metadata": {
        "id": "7osRQ7-JTVZZ"
      },
      "execution_count": 25,
      "outputs": []
    },
    {
      "cell_type": "code",
      "source": [
        "# Create a KNN Regressor class\n",
        "class KNNRegressor():\n",
        "    def fit(self, X, y):\n",
        "        self.X = X\n",
        "        self.y = y\n",
        "\n",
        "    def predict(self, X, K, epsilon=1e-3):\n",
        "        N = len(X)\n",
        "        y_hat = np.zeros(N)\n",
        "\n",
        "        for i in range(N):\n",
        "            dist2 = np.sum((self.X - X[i])**2, axis=1)\n",
        "            idxt = np.argsort(dist2)[:K]\n",
        "            gamma_K = np.exp(-dist2[idxt]) / np.exp(-dist2[idxt]).sum()\n",
        "            y_hat[i] = gamma_K.dot(self.y[idxt])\n",
        "\n",
        "        return y_hat"
      ],
      "metadata": {
        "id": "nxsmkNoTaqxO"
      },
      "execution_count": 26,
      "outputs": []
    },
    {
      "cell_type": "code",
      "source": [
        "def gradient_descent(m_now, b_now, data, learning_rate):\n",
        "    m_gradient = 0\n",
        "    b_gradient = 0\n",
        "\n",
        "    n = len(data)\n",
        "\n",
        "    for i in range(n):\n",
        "        x = data.iloc[i].bedrooms\n",
        "        y = data.iloc[i].sold_price - data.iloc[i].price_after_renovations\n",
        "        \n",
        "        m_gradient += -(2/n) * x * (y - (m_now * x + b_now))\n",
        "        b_gradient += -(2/n) * (y - (m_now * x + b_now))\n",
        "\n",
        "    m = m_now - m_gradient * learning_rate\n",
        "    b = b_now - b_gradient * learning_rate\n",
        "    return m, b\n"
      ],
      "metadata": {
        "id": "Q_k_9B7ZPOPn"
      },
      "execution_count": 27,
      "outputs": []
    },
    {
      "cell_type": "code",
      "source": [
        "# Select the columns for linear regression\n",
        "cols_lr = ['fireplaces', 'bathrooms', 'bedrooms', 'garage', 'floor_covering_values', 'bedrooms_new']\n",
        "#X_lr = data[cols_lr].values\n",
        "#y_lr = data['sold_price'].values\n"
      ],
      "metadata": {
        "id": "EHdypOWjxACG"
      },
      "execution_count": 28,
      "outputs": []
    },
    {
      "cell_type": "code",
      "source": [
        "# Select the columns for KNN regression\n",
        "cols_knn = ['fireplaces', 'bathrooms', 'bedrooms', 'garage', 'floor_covering_values']"
      ],
      "metadata": {
        "id": "f-ad1A8H7s0K"
      },
      "execution_count": 29,
      "outputs": []
    },
    {
      "cell_type": "code",
      "source": [
        "data['bedrooms_new'] = data['bedrooms']"
      ],
      "metadata": {
        "id": "3qv2KsfjBycb"
      },
      "execution_count": 30,
      "outputs": []
    },
    {
      "cell_type": "code",
      "source": [
        "# Extract the features and target variable for linear regression\n",
        "X_lr = data[cols_lr].values\n",
        "y_lr = data['sold_price'].values"
      ],
      "metadata": {
        "id": "6Gff39hl-u07"
      },
      "execution_count": 31,
      "outputs": []
    },
    {
      "cell_type": "code",
      "source": [
        "# Scale the features using min-max scaling\n",
        "X_lr = (X_lr - X_lr.min(axis=0)) / (X_lr.max(axis=0) - X_lr.min(axis=0))"
      ],
      "metadata": {
        "id": "0cg7YXE2w5MH"
      },
      "execution_count": 32,
      "outputs": []
    },
    {
      "cell_type": "markdown",
      "source": [
        "The LinearRegression class has two methods, fit and predict. The fit method takes in the input matrix X and the target vector y and updates the weights and bias using gradient descent. The predict method takes in a new input matrix X and returns the predictions for each sample.\n",
        "\n",
        "\n",
        "To use the LinearRegression class, you can create an instance of the class and call the fit method to train the model on some data, and then call the predict method to make predictions on new data:"
      ],
      "metadata": {
        "id": "Vmm-F5YETb3L"
      }
    },
    {
      "cell_type": "code",
      "source": [
        "# Train the linear regression model\n",
        "lr = LinearRegression()\n",
        "lr.fit(X_lr, y_lr)"
      ],
      "metadata": {
        "id": "MMcCYfVsyMdf"
      },
      "execution_count": 33,
      "outputs": []
    },
    {
      "cell_type": "code",
      "source": [
        "# Train the KNN regressor model\n",
        "knn = KNNRegressor()"
      ],
      "metadata": {
        "id": "rOzar0CE2q5k"
      },
      "execution_count": 34,
      "outputs": []
    },
    {
      "cell_type": "code",
      "source": [
        "# Select the columns for KNN regression\n",
        "cols_knn = ['fireplaces', 'bathrooms', 'bedrooms', 'garage', 'floor_covering_values']\n",
        "X_knn = data[cols_knn].values\n",
        "y_knn = data['sold_price'].values"
      ],
      "metadata": {
        "id": "XAZlUSvEwra8"
      },
      "execution_count": 35,
      "outputs": []
    },
    {
      "cell_type": "code",
      "source": [
        "# Scale the features using min-max scaling\n",
        "X_knn = (X_knn - X_knn.min(axis=0)) / (X_knn.max(axis=0) - X_knn.min(axis=0))"
      ],
      "metadata": {
        "id": "U4nmxGQKuASn"
      },
      "execution_count": 36,
      "outputs": []
    },
    {
      "cell_type": "code",
      "source": [
        "# Train the KNN regressor model\n",
        "knn.fit(X_knn, y_knn)"
      ],
      "metadata": {
        "id": "aKxzQ0UaCdmK"
      },
      "execution_count": 37,
      "outputs": []
    },
    {
      "cell_type": "code",
      "source": [
        "# Get the user input for the property address\n",
        "address = input(\"Enter the address of the property: \")"
      ],
      "metadata": {
        "colab": {
          "base_uri": "https://localhost:8080/"
        },
        "id": "7J6PFyqk2cc9",
        "outputId": "de733f77-3fd9-4d8e-b8c4-129d12796563"
      },
      "execution_count": 38,
      "outputs": [
        {
          "name": "stdout",
          "output_type": "stream",
          "text": [
            "Enter the address of the property: 3042 Placita, Tucson, AZ 85716\n"
          ]
        }
      ]
    },
    {
      "cell_type": "code",
      "source": [
        "geolocator = Nominatim(user_agent=\"mAIstros\")\n",
        "location = geolocator.geocode(address)"
      ],
      "metadata": {
        "id": "pRjeE5CdycHB"
      },
      "execution_count": 39,
      "outputs": []
    },
    {
      "cell_type": "code",
      "source": [
        "if location is not None:\n",
        "    lat = location.latitude\n",
        "    lon = location.longitude\n",
        "    print(f\"Latitude: {lat}, Longitude: {lon}\")\n",
        "else:\n",
        "    print(f\"Could not find location for address: {address}\")"
      ],
      "metadata": {
        "id": "cTPJfRWVUAu2",
        "colab": {
          "base_uri": "https://localhost:8080/"
        },
        "outputId": "852e56a9-8445-4519-da9c-3b706dc10e38"
      },
      "execution_count": 40,
      "outputs": [
        {
          "output_type": "stream",
          "name": "stdout",
          "text": [
            "Latitude: 32.27346847541859, Longitude: -110.92735088090271\n"
          ]
        }
      ]
    },
    {
      "cell_type": "code",
      "source": [
        "#Create a new data point with user input and geocoded location\n",
        "new_data = np.array([[1, 2, 3, 1, 0.5, 1], [2, 1, 4, 2, 0.2, 2], [0, 1, 2, 0, 0.8, 0]])"
      ],
      "metadata": {
        "id": "1WcAKQSKwiKN"
      },
      "execution_count": 41,
      "outputs": []
    },
    {
      "cell_type": "code",
      "source": [
        "# Predict the sale price using linear regression\n",
        "sale_price_lr = lr.predict(new_data)"
      ],
      "metadata": {
        "id": "kmFXh84RTeom"
      },
      "execution_count": 42,
      "outputs": []
    },
    {
      "cell_type": "code",
      "source": [
        "# Remove the extra column from new_data\n",
        "new_data = new_data[:, :-1]\n",
        "\n",
        "# Predict the sale price using KNN regression\n",
        "K = 3\n",
        "sale_price_knn = knn.predict(new_data, K)"
      ],
      "metadata": {
        "id": "FJYA-V47xyxy"
      },
      "execution_count": 43,
      "outputs": []
    },
    {
      "cell_type": "code",
      "source": [
        "# Create a new data point with the user input\n",
        "bedrooms_new = int(input(\"Enter the number of bedrooms: \"))\n",
        "\n",
        "# Create a new DataFrame with the user input\n",
        "new_data = pd.DataFrame({'fireplaces': [0], 'bathrooms': [0], 'bedrooms': [0], 'garage': [0], \n",
        "                         'floor_covering_values': [0], 'bedrooms_new': [bedrooms_new]})\n",
        "\n",
        "# Select the same columns as X_lr\n",
        "new_X = new_data[cols_lr].values\n",
        "\n",
        "# Scale the new data point\n",
        "new_X_scaled = (new_X - X_lr.min(axis=0)) / (X_lr.max(axis=0) - X_lr.min(axis=0))\n",
        "\n",
        "# Make a prediction\n",
        "price_after_renovations = lr.predict(new_X_scaled.reshape(1,-1))[0]\n",
        "\n",
        "print(f\"The estimated price after renovations for a {bedrooms_new}-bedroom house is ${float(price_after_renovations):.2f}\")"
      ],
      "metadata": {
        "colab": {
          "base_uri": "https://localhost:8080/"
        },
        "id": "W7wC2Isaz56a",
        "outputId": "6dd216b9-7953-48f2-c82f-4cf34d459421"
      },
      "execution_count": 44,
      "outputs": [
        {
          "output_type": "stream",
          "name": "stdout",
          "text": [
            "Enter the number of bedrooms: 5\n",
            "The estimated price after renovations for a 5-bedroom house is $997572.86\n"
          ]
        }
      ]
    },
    {
      "cell_type": "code",
      "source": [
        "#Print the predicted sale price using both models\n",
        "print(f\"Predicted sale price using Linear Regression: {sale_price_lr}\")\n",
        "print(f\"Predicted sale price using KNN Regression: {sale_price_knn}\")\n"
      ],
      "metadata": {
        "colab": {
          "base_uri": "https://localhost:8080/"
        },
        "id": "h6mgfMViDeFI",
        "outputId": "c2457552-557a-47b7-f116-64ef7678df55"
      },
      "execution_count": 45,
      "outputs": [
        {
          "output_type": "stream",
          "name": "stdout",
          "text": [
            "Predicted sale price using Linear Regression: [1509975.19104714 1863049.39131337  941572.71238154]\n",
            "Predicted sale price using KNN Regression: [598333.33333333 598333.33333333 598333.33333333]\n"
          ]
        }
      ]
    },
    {
      "cell_type": "code",
      "source": [
        "data['price_after_renovations'] = data['sold_price']"
      ],
      "metadata": {
        "id": "Okey72NHbHJy"
      },
      "execution_count": 48,
      "outputs": []
    },
    {
      "cell_type": "code",
      "source": [
        "m = 0\n",
        "b = 0\n",
        "learning_rate = 0.02\n",
        "epochs = 226\n",
        "\n",
        "for i in range(epochs):\n",
        "    m, b = gradient_descent(m, b, data, learning_rate)\n",
        "\n",
        "# calculate predicted prices for all data points using the learned slope and y-intercept\n",
        "predicted_prices = [m*x + b for x in data['bedrooms']]\n",
        "\n",
        "# calculate the price difference for all data points\n",
        "price_diff = data['price_after_renovations'] - data['sold_price']\n",
        "\n",
        "# plot the difference between the original sales price and the predicted price\n",
        "plt.scatter(data['bedrooms'], 'sold_price', color='black', alpha=0.5)\n",
        "plt.plot(data['new_bedrooms'], predicted_prices, color='red')\n",
        "plt.xlabel('Number of Bedrooms')\n",
        "plt.ylabel('Price Difference ($)')\n",
        "plt.title('Difference between Original Sales Price and Predicted Price after Renovations')\n",
        "plt.show()\n"
      ],
      "metadata": {
        "id": "cpcH1q9aOuFU"
      },
      "execution_count": null,
      "outputs": []
    },
    {
      "cell_type": "code",
      "source": [
        "#Plot the relationship between the number of bedrooms and the sold price\n",
        "\n",
        "plt.scatter(data['bedrooms'], data['sold_price'], alpha=0.5)\n",
        "plt.xlabel('Number of Bedrooms')\n",
        "plt.ylabel('Sold Price ($)')\n",
        "plt.title('Relationship between Number of Bedrooms and Sold Price')\n",
        "plt.show()"
      ],
      "metadata": {
        "id": "BZ0s1RQF0d1n"
      },
      "execution_count": null,
      "outputs": []
    },
    {
      "cell_type": "code",
      "source": [
        "data['price_diff'] = data['sold_price'] - data['price_after_renovations']"
      ],
      "metadata": {
        "id": "GClD-UO7Oi5k"
      },
      "execution_count": null,
      "outputs": []
    },
    {
      "cell_type": "code",
      "source": [
        "plt.scatter(data['bedrooms'], data['price_diff'], alpha=0.5)\n",
        "plt.xlabel('Number of Bedrooms')\n",
        "plt.ylabel('Price Difference ($)')\n",
        "plt.title('Difference between Original Sales Price and Predicted Price after Renovations')\n",
        "plt.show()\n"
      ],
      "metadata": {
        "id": "Fac3P6YgOqza"
      },
      "execution_count": null,
      "outputs": []
    }
  ]
}