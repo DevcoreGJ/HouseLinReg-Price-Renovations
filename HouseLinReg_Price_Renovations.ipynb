{
  "nbformat": 4,
  "nbformat_minor": 0,
  "metadata": {
    "colab": {
      "provenance": []
    },
    "kernelspec": {
      "name": "python3",
      "display_name": "Python 3"
    },
    "language_info": {
      "name": "python"
    }
  },
  "cells": [
    {
      "cell_type": "code",
      "execution_count": 1,
      "metadata": {
        "id": "UJbED1JezXw8"
      },
      "outputs": [],
      "source": [
        "import pandas as pd\n",
        "import numpy as np\n",
        "import math\n",
        "import matplotlib.pyplot as plt"
      ]
    },
    {
      "cell_type": "code",
      "source": [
        "data = pd.read_csv('/content/raw_house_data.csv')"
      ],
      "metadata": {
        "id": "zzjwRFRGzZas"
      },
      "execution_count": 2,
      "outputs": []
    },
    {
      "cell_type": "markdown",
      "source": [
        "#Check data is loaded"
      ],
      "metadata": {
        "id": "lSakwPftv1SA"
      }
    },
    {
      "cell_type": "code",
      "source": [
        "print(data.head())"
      ],
      "metadata": {
        "colab": {
          "base_uri": "https://localhost:8080/"
        },
        "id": "6Gq7xluX0NxM",
        "outputId": "908cd3b8-4a8e-4269-8531-e8b6a1410a2e"
      },
      "execution_count": 3,
      "outputs": [
        {
          "output_type": "stream",
          "name": "stdout",
          "text": [
            "        MLS  sold_price  zipcode   longitude   latitude  lot_acres     taxes  \\\n",
            "0  21530491   5300000.0    85637 -110.378200  31.356362    2154.00   5272.00   \n",
            "1  21529082   4200000.0    85646 -111.045371  31.594213    1707.00  10422.36   \n",
            "2   3054672   4200000.0    85646 -111.040707  31.594844    1707.00  10482.00   \n",
            "3  21919321   4500000.0    85646 -111.035925  31.645878     636.67   8418.58   \n",
            "4  21306357   3411450.0    85750 -110.813768  32.285162       3.21  15393.00   \n",
            "\n",
            "   year_built  bedrooms bathrooms sqrt_ft garage  \\\n",
            "0        1941        13        10   10500      0   \n",
            "1        1997         2         2    7300      0   \n",
            "2        1997         2         3    None   None   \n",
            "3        1930         7         5    9019      4   \n",
            "4        1995         4         6    6396      3   \n",
            "\n",
            "                                    kitchen_features  fireplaces  \\\n",
            "0            Dishwasher, Freezer, Refrigerator, Oven         6.0   \n",
            "1                       Dishwasher, Garbage Disposal         5.0   \n",
            "2         Dishwasher, Garbage Disposal, Refrigerator         5.0   \n",
            "3  Dishwasher, Double Sink, Pantry: Butler, Refri...         4.0   \n",
            "4  Dishwasher, Garbage Disposal, Refrigerator, Mi...         5.0   \n",
            "\n",
            "                 floor_covering   HOA  \n",
            "0            Mexican Tile, Wood     0  \n",
            "1          Natural Stone, Other     0  \n",
            "2    Natural Stone, Other: Rock  None  \n",
            "3  Ceramic Tile, Laminate, Wood  None  \n",
            "4              Carpet, Concrete    55  \n"
          ]
        }
      ]
    },
    {
      "cell_type": "code",
      "source": [
        "print(data.shape)"
      ],
      "metadata": {
        "colab": {
          "base_uri": "https://localhost:8080/"
        },
        "id": "TzNrLH2U0wil",
        "outputId": "bacfd598-9c3c-4ae3-c5a4-d263cf796d36"
      },
      "execution_count": 4,
      "outputs": [
        {
          "output_type": "stream",
          "name": "stdout",
          "text": [
            "(5000, 16)\n"
          ]
        }
      ]
    },
    {
      "cell_type": "markdown",
      "source": [
        "#Check missing values"
      ],
      "metadata": {
        "id": "5_tGo6T-11XQ"
      }
    },
    {
      "cell_type": "code",
      "source": [
        "# Check for missing values\n",
        "missing_values = data.isnull().sum()"
      ],
      "metadata": {
        "id": "BQvHWR-s1QYX"
      },
      "execution_count": 5,
      "outputs": []
    },
    {
      "cell_type": "code",
      "source": [
        "# Print the number of missing values for each column\n",
        "print(missing_values)"
      ],
      "metadata": {
        "colab": {
          "base_uri": "https://localhost:8080/"
        },
        "id": "1PkBXsF_1VMm",
        "outputId": "596216dc-03fb-44a2-bbe2-79cf2846f3ad"
      },
      "execution_count": 6,
      "outputs": [
        {
          "output_type": "stream",
          "name": "stdout",
          "text": [
            "MLS                  0\n",
            "sold_price           0\n",
            "zipcode              0\n",
            "longitude            0\n",
            "latitude             0\n",
            "lot_acres           10\n",
            "taxes                0\n",
            "year_built           0\n",
            "bedrooms             0\n",
            "bathrooms            0\n",
            "sqrt_ft              0\n",
            "garage               0\n",
            "kitchen_features     0\n",
            "fireplaces          25\n",
            "floor_covering       0\n",
            "HOA                  0\n",
            "dtype: int64\n"
          ]
        }
      ]
    },
    {
      "cell_type": "markdown",
      "source": [
        "#Fill missing values"
      ],
      "metadata": {
        "id": "MeKJgvXwvqRM"
      }
    },
    {
      "cell_type": "code",
      "source": [
        "# Fill in missing values in lot_acres with the median\n",
        "median_lot_acres = data['lot_acres'].median()\n",
        "data['lot_acres'].fillna(median_lot_acres, inplace=True)"
      ],
      "metadata": {
        "id": "GJ8UztNi1sLs"
      },
      "execution_count": 7,
      "outputs": []
    },
    {
      "cell_type": "code",
      "source": [
        "# Fill in missing values in fireplaces with the mode\n",
        "mode_fireplaces = data['fireplaces'].mode()[0]\n",
        "data['fireplaces'].fillna(mode_fireplaces, inplace=True)"
      ],
      "metadata": {
        "id": "QGWjptht1u6u"
      },
      "execution_count": 8,
      "outputs": []
    },
    {
      "cell_type": "markdown",
      "source": [
        "#Verify missing values are filled"
      ],
      "metadata": {
        "id": "TXi1F8DEvt7w"
      }
    },
    {
      "cell_type": "code",
      "source": [
        "# Verify that there are no more missing values\n",
        "missing_values = data.isnull().sum()\n",
        "print(missing_values)"
      ],
      "metadata": {
        "colab": {
          "base_uri": "https://localhost:8080/"
        },
        "id": "e075EjT01xzF",
        "outputId": "2ea59647-e79f-4224-a14c-50cce1652811"
      },
      "execution_count": 9,
      "outputs": [
        {
          "output_type": "stream",
          "name": "stdout",
          "text": [
            "MLS                 0\n",
            "sold_price          0\n",
            "zipcode             0\n",
            "longitude           0\n",
            "latitude            0\n",
            "lot_acres           0\n",
            "taxes               0\n",
            "year_built          0\n",
            "bedrooms            0\n",
            "bathrooms           0\n",
            "sqrt_ft             0\n",
            "garage              0\n",
            "kitchen_features    0\n",
            "fireplaces          0\n",
            "floor_covering      0\n",
            "HOA                 0\n",
            "dtype: int64\n"
          ]
        }
      ]
    },
    {
      "cell_type": "markdown",
      "source": [
        "###Double verification"
      ],
      "metadata": {
        "id": "iV7OPn7nbPpq"
      }
    },
    {
      "cell_type": "code",
      "source": [
        "print(data.isnull().sum())"
      ],
      "metadata": {
        "colab": {
          "base_uri": "https://localhost:8080/"
        },
        "id": "OzjAaAadbGXa",
        "outputId": "392669a5-2508-4c66-8767-17dd2128a328"
      },
      "execution_count": 10,
      "outputs": [
        {
          "output_type": "stream",
          "name": "stdout",
          "text": [
            "MLS                 0\n",
            "sold_price          0\n",
            "zipcode             0\n",
            "longitude           0\n",
            "latitude            0\n",
            "lot_acres           0\n",
            "taxes               0\n",
            "year_built          0\n",
            "bedrooms            0\n",
            "bathrooms           0\n",
            "sqrt_ft             0\n",
            "garage              0\n",
            "kitchen_features    0\n",
            "fireplaces          0\n",
            "floor_covering      0\n",
            "HOA                 0\n",
            "dtype: int64\n"
          ]
        }
      ]
    },
    {
      "cell_type": "markdown",
      "source": [
        "#Check Data types"
      ],
      "metadata": {
        "id": "npM-M_6p2p6h"
      }
    },
    {
      "cell_type": "code",
      "source": [
        "data.dtypes"
      ],
      "metadata": {
        "colab": {
          "base_uri": "https://localhost:8080/"
        },
        "id": "APKZDOZqznq-",
        "outputId": "3683e99e-bd74-4941-d38d-97dcef8f3820"
      },
      "execution_count": 11,
      "outputs": [
        {
          "output_type": "execute_result",
          "data": {
            "text/plain": [
              "MLS                   int64\n",
              "sold_price          float64\n",
              "zipcode               int64\n",
              "longitude           float64\n",
              "latitude            float64\n",
              "lot_acres           float64\n",
              "taxes               float64\n",
              "year_built            int64\n",
              "bedrooms              int64\n",
              "bathrooms            object\n",
              "sqrt_ft              object\n",
              "garage               object\n",
              "kitchen_features     object\n",
              "fireplaces          float64\n",
              "floor_covering       object\n",
              "HOA                  object\n",
              "dtype: object"
            ]
          },
          "metadata": {},
          "execution_count": 11
        }
      ]
    },
    {
      "cell_type": "markdown",
      "source": [
        "#Created a class to treat data"
      ],
      "metadata": {
        "id": "HdBC5ovtj2ej"
      }
    },
    {
      "cell_type": "markdown",
      "source": [
        "##How to use:\n",
        "\n",
        "Standard usage for my library:\n",
        "\n",
        "**To instantiate the class**\n",
        "\n",
        "- preprocessor = DataPreprocessor()\n",
        "\n",
        "**Using the convert_to_int method**\n",
        " - preprocessor.convert_to_int(**dataframe**, '**column**')\n",
        "\n",
        " - By default this should also run the **check_non_numeric** as a sub method.\n",
        "\n",
        "**Using the resolve_categorical method**\n",
        "\n",
        "- preprocessor.resolve_categorical(**dataframe**, '**existing_column_name**')\n",
        "\n",
        "- existing_column_name = dataframe['existing_column_name'].unique()\n",
        "\n",
        "- data['new_column_name'] = data['existing_column_name'].map({feature: i for i, feature in enumerate(kitchen_features)})\n",
        "\n",
        "**Using the round floats method**\n",
        "- preprocessor.round_floats(dataframe, '**column**')\n"
      ],
      "metadata": {
        "id": "_bXP30ro8XlA"
      }
    },
    {
      "cell_type": "code",
      "source": [
        "#import pandas as pd\n",
        "#import numpy as np\n",
        "#import math\n",
        "\n",
        "class DataPreprocessor:\n",
        "\n",
        "    def scale_features(self, data, columns, method='standardization'):\n",
        "        \"\"\"\n",
        "        Scales or normalizes the features of a DataFrame.\n",
        "\n",
        "        Parameters:\n",
        "        - data: Pandas DataFrame containing the data.\n",
        "        - columns: list of columns to scale or normalize.\n",
        "        - method: scaling method to use. Can be 'standardization' or 'min-max'.\n",
        "\n",
        "        Returns:\n",
        "        - Pandas DataFrame with the scaled or normalized features.\n",
        "        \"\"\"\n",
        "        # Make a copy of the data to avoid modifying the original DataFrame\n",
        "        data_scaled = data.copy()\n",
        "\n",
        "        # Scale or normalize the selected columns\n",
        "        if method == 'standardization':\n",
        "            for col in columns:\n",
        "                data_scaled[col] = (data_scaled[col] - data_scaled[col].mean()) / data_scaled[col].std()\n",
        "\n",
        "        elif method == 'min-max':\n",
        "            for col in columns:\n",
        "                data_scaled[col] = (data_scaled[col] - data_scaled[col].min()) / (data_scaled[col].max() - data_scaled[col].min())\n",
        "\n",
        "        return data_scaled\n",
        "\n",
        "    def remove_outliers(self, data, columns, threshold=2):\n",
        "        \"\"\"\n",
        "        Removes outliers from a DataFrame using the z-score method.\n",
        "\n",
        "        Parameters:\n",
        "        - data: Pandas DataFrame containing the data.\n",
        "        - columns: list of columns to check for outliers.\n",
        "        - threshold: number of standard deviations from the mean to consider an outlier.\n",
        "\n",
        "        Returns:\n",
        "        - Pandas DataFrame without the outliers.\n",
        "        \"\"\"\n",
        "        # Make a copy of the data to avoid modifying the original DataFrame\n",
        "        data_clean = data.copy()\n",
        "\n",
        "        # Iterate over the columns and remove outliers using the z-score method\n",
        "        for col in columns:\n",
        "            z_scores = np.abs((data_clean[col] - data_clean[col].mean()) / data_clean[col].std())\n",
        "            data_clean = data_clean[z_scores <= threshold * data_clean[col].std()]\n",
        "\n",
        "        return data_clean\n",
        "\n",
        "    @staticmethod\n",
        "    def check_non_numeric(data, column):\n",
        "        # Select all rows in the column that cannot be converted to a numeric type\n",
        "        non_numeric = data[pd.to_numeric(data[column], errors='coerce').isna()]\n",
        "\n",
        "        # Check if there are any non-numeric values in the selected rows\n",
        "        if len(non_numeric) > 0:\n",
        "            # If there are non-numeric values, print them out\n",
        "            print(f\"Found non-numeric values in column '{column}':\")\n",
        "            print(non_numeric)\n",
        "        else:\n",
        "            # If there are no non-numeric values, print a message indicating so\n",
        "            print(f\"No non-numeric values found in column '{column}'\")\n",
        "            \n",
        "    @staticmethod\n",
        "    def resolve_categorical(data, column):\n",
        "        # Check if the column has any missing values\n",
        "        if data[column].isna().sum() > 0:\n",
        "            # If there are missing values, drop them\n",
        "            data.dropna(subset=[column], inplace=True)\n",
        "        \n",
        "        # Count the categorical values\n",
        "        cat_counts = data[column].value_counts().to_dict()\n",
        "\n",
        "        # Replace the original values with their counts\n",
        "        data[column] = data[column].map(cat_counts)\n",
        "\n",
        "        # Verify the result\n",
        "        print(data[column].unique())\n",
        "\n",
        "    def convert_to_int(self, data, column):\n",
        "        # Check for non-numeric values\n",
        "        DataPreprocessor.check_non_numeric(data, column)\n",
        "\n",
        "        # Replace \"None\" with NaN\n",
        "        data[column] = data[column].replace(\"None\", np.nan)\n",
        "\n",
        "        # Convert the column to string\n",
        "        data[column] = data[column].astype(str)\n",
        "\n",
        "        # Remove commas from numbers\n",
        "        data[column] = data[column].str.replace(\",\", \"\")\n",
        "\n",
        "        # Convert the column to float\n",
        "        data[column] = data[column].astype(float)\n",
        "\n",
        "        # Replace NaN with 0\n",
        "        data[column] = data[column].fillna(0)\n",
        "\n",
        "        # Round down to the nearest integer\n",
        "        data[column] = data[column].apply(lambda x: math.floor(x))\n",
        "\n",
        "        # Convert to int\n",
        "        data[column] = data[column].astype(int)\n",
        "\n",
        "        # Verify the result\n",
        "        print(data[column].unique())\n",
        "        \n",
        "    def convert_to_float(self, data, column):\n",
        "        # Check for non-numeric values\n",
        "        DataPreprocessor.check_non_numeric(data, column)\n",
        "\n",
        "        # Replace \"None\" with NaN\n",
        "        data[column] = data[column].replace(\"None\", np.nan)\n",
        "\n",
        "        # Convert the column to string\n",
        "        data[column] = data[column].astype(str)\n",
        "\n",
        "        # Remove commas from numbers\n",
        "        data[column] = data[column].str.replace(\",\", \"\")\n",
        "\n",
        "        # Check for non-numeric values\n",
        "        DataPreprocessor.check_non_numeric(data, column)\n",
        "        \n",
        "        # Replace \"None\" with NaN\n",
        "        data[column] = data[column].replace(\"None\", np.nan)\n",
        "\n",
        "        # Convert the column to float\n",
        "        data[column] = data[column].astype(float)\n",
        "\n",
        "        # Replace NaN with 0\n",
        "        data[column] = data[column].fillna(0)\n",
        "\n",
        "        # Verify the result\n",
        "        print(data[column].unique())\n",
        "\n",
        "    def round_floats(self, data, column):\n",
        "        # Check if the column has any missing values\n",
        "        if data[column].isna().sum() > 0:\n",
        "            # If there are missing values, drop them\n",
        "            data.dropna(subset=[column], inplace=True)\n",
        "        \n",
        "        # Round floats to 2 decimal points or add 0 if only one\n",
        "        data[column] = data[column].apply(lambda x: '{:.2f}'.format(x) if isinstance(x, float) and x.is_integer() == False else '{:.2f}0'.format(x) if isinstance(x, float) and x.is_integer() else x)\n",
        "        \n",
        "        # Verify the result\n",
        "        print(data[column].unique())\n"
      ],
      "metadata": {
        "id": "zU0VJXBcju3j"
      },
      "execution_count": 12,
      "outputs": []
    },
    {
      "cell_type": "markdown",
      "source": [
        "#Instantiate Preprocessor"
      ],
      "metadata": {
        "id": "G98TAlN0oWe2"
      }
    },
    {
      "cell_type": "code",
      "source": [
        "preprocessor = DataPreprocessor()"
      ],
      "metadata": {
        "id": "-Wd6TQiDoZJz"
      },
      "execution_count": 13,
      "outputs": []
    },
    {
      "cell_type": "markdown",
      "source": [
        "#Treating Data with preprocessor class"
      ],
      "metadata": {
        "id": "MBpl5b-BaEjJ"
      }
    },
    {
      "cell_type": "markdown",
      "source": [
        "##Price"
      ],
      "metadata": {
        "id": "1cyyKACxXl46"
      }
    },
    {
      "cell_type": "code",
      "source": [
        "preprocessor.round_floats(data, 'sold_price')"
      ],
      "metadata": {
        "colab": {
          "base_uri": "https://localhost:8080/"
        },
        "id": "bFaoDhCYXgIN",
        "outputId": "f5c79f48-1d51-407f-9233-01ef66bb89b3"
      },
      "execution_count": 14,
      "outputs": [
        {
          "output_type": "stream",
          "name": "stdout",
          "text": [
            "['5300000.000' '4200000.000' '4500000.000' ... '539100.000' '534000.000'\n",
            " '526710.000']\n"
          ]
        }
      ]
    },
    {
      "cell_type": "code",
      "source": [
        "preprocessor.convert_to_float(data, 'sold_price')"
      ],
      "metadata": {
        "colab": {
          "base_uri": "https://localhost:8080/"
        },
        "id": "-3fmZGo0ayxP",
        "outputId": "4f9f64f2-6cd6-41ac-f632-5a79f7dc8e4c"
      },
      "execution_count": 15,
      "outputs": [
        {
          "output_type": "stream",
          "name": "stdout",
          "text": [
            "No non-numeric values found in column 'sold_price'\n",
            "No non-numeric values found in column 'sold_price'\n",
            "[5300000. 4200000. 4500000. ...  539100.  534000.  526710.]\n"
          ]
        }
      ]
    },
    {
      "cell_type": "markdown",
      "source": [
        "##Year built"
      ],
      "metadata": {
        "id": "hJHGwsERD6Xz"
      }
    },
    {
      "cell_type": "code",
      "source": [
        "preprocessor.convert_to_int(data, 'year_built')"
      ],
      "metadata": {
        "colab": {
          "base_uri": "https://localhost:8080/"
        },
        "id": "3qpUQh_gD8ZK",
        "outputId": "c441afa9-e971-47b7-c2c4-7f4c23d9213d"
      },
      "execution_count": 16,
      "outputs": [
        {
          "output_type": "stream",
          "name": "stdout",
          "text": [
            "No non-numeric values found in column 'year_built'\n",
            "[1941 1997 1930 1995 1999 2001 2011 2002 2007 1935 2009 2015 2008 2010\n",
            " 1983 2005 1936 1998 2004 1985 2018 2019 2000    0 2012 2016 2003 1954\n",
            " 1994 2014 2017 1967 2013 1943 1953 2006 1968 1982 1981 1993 1989 1928\n",
            " 1900 1996 1977 1984 1992 1922 1952 1991 1959 1970 1911 1979 1986 1990\n",
            " 1974 1964 1925 1972 1987 1980 1988 1929 1951 1958 1973 1961 1946 1963\n",
            " 1969 1976 1947 1971 1940 1948 1937 1965 1966 1978 1960 1934 1956 1907\n",
            " 1938 1950 1955 1932 1939 1957 1893 1962 1975 1924 1901 1949 1902 1942\n",
            " 1945 1923 1913 1944 1931 1918 1921 1926 1919 1914 1917 1910 1905 1927]\n"
          ]
        }
      ]
    },
    {
      "cell_type": "markdown",
      "source": [
        "##Taxes"
      ],
      "metadata": {
        "id": "VDz-jPTFE0Oo"
      }
    },
    {
      "cell_type": "code",
      "source": [
        "preprocessor.round_floats(data, 'taxes')"
      ],
      "metadata": {
        "colab": {
          "base_uri": "https://localhost:8080/"
        },
        "id": "lqzD3GKnNbaU",
        "outputId": "fa19d60a-c3dc-4497-c3e1-6267bf78d352"
      },
      "execution_count": 17,
      "outputs": [
        {
          "output_type": "stream",
          "name": "stdout",
          "text": [
            "['5272.000' '10422.36' '10482.000' ... '1000.000' '5822.93' '2814.48']\n"
          ]
        }
      ]
    },
    {
      "cell_type": "code",
      "source": [
        "preprocessor.convert_to_float(data, 'taxes')"
      ],
      "metadata": {
        "colab": {
          "base_uri": "https://localhost:8080/"
        },
        "id": "qb0xdL-PD51f",
        "outputId": "179877d2-f202-4ff3-bdbf-7fa8336008ce"
      },
      "execution_count": 18,
      "outputs": [
        {
          "output_type": "stream",
          "name": "stdout",
          "text": [
            "No non-numeric values found in column 'taxes'\n",
            "No non-numeric values found in column 'taxes'\n",
            "[ 5272.   10422.36 10482.   ...  1000.    5822.93  2814.48]\n"
          ]
        }
      ]
    },
    {
      "cell_type": "markdown",
      "source": [
        "##Bathroom"
      ],
      "metadata": {
        "id": "uUncToNdrQmc"
      }
    },
    {
      "cell_type": "code",
      "source": [
        "preprocessor.convert_to_int(data, 'bathrooms')"
      ],
      "metadata": {
        "colab": {
          "base_uri": "https://localhost:8080/"
        },
        "id": "hJpH9iBXkBDr",
        "outputId": "ee68740d-6f4b-4c0f-f0a0-6d2c717fe545"
      },
      "execution_count": 19,
      "outputs": [
        {
          "output_type": "stream",
          "name": "stdout",
          "text": [
            "Found non-numeric values in column 'bathrooms':\n",
            "          MLS  sold_price  zipcode   longitude   latitude  lot_acres    taxes  \\\n",
            "2025  3044867    660000.0    85614 -110.969465  31.836723       3.60  5526.00   \n",
            "2766  3042851    575000.0    85614 -110.960497  31.854446       0.87  4623.05   \n",
            "3108  3047540    610000.0    85614 -111.002544  31.840061       1.70  3800.00   \n",
            "3529  3046317    535000.0    85614 -110.986426  31.806614       4.27  3826.25   \n",
            "3822  3045347    550000.0    85614 -111.008754  31.841141       0.99  3702.07   \n",
            "4812  3046287    500000.0    85646 -111.051431  31.636207       1.03  8102.00   \n",
            "\n",
            "      year_built  bedrooms bathrooms sqrt_ft garage  \\\n",
            "2025        2007         3      None    None      3   \n",
            "2766        2002         3      None    None      3   \n",
            "3108        2007         3      None    None      3   \n",
            "3529        2006         2      None    None      3   \n",
            "3822        2007         2      None    None      3   \n",
            "4812        1999         4      None    None      2   \n",
            "\n",
            "                                       kitchen_features  fireplaces  \\\n",
            "2025  Desk, Dishwasher, Garbage Disposal, Gas Range,...         1.0   \n",
            "2766  Dishwasher, Garbage Disposal, Gas Range, Islan...         1.0   \n",
            "3108                                               None         1.0   \n",
            "3529  Dishwasher, Garbage Disposal, Gas Range, Islan...         1.0   \n",
            "3822  Dishwasher, Garbage Disposal, Island, Lazy Sus...         1.0   \n",
            "4812  Dishwasher, Electric Range, Garbage Disposal, ...         1.0   \n",
            "\n",
            "                 floor_covering    HOA  \n",
            "2025  Carpet, Other: Tile-Other  1,000  \n",
            "2766              Carpet, Other    250  \n",
            "3108                       None  1,200  \n",
            "3529  Carpet, Other: Tile-Other   None  \n",
            "3822  Carpet, Other: Tile-Other  1,200  \n",
            "4812       Carpet, Mexican Tile    250  \n",
            "[10  2  3  5  6  4  8  7 15  1  9 11 18 14  0 35 36]\n"
          ]
        }
      ]
    },
    {
      "cell_type": "markdown",
      "source": [
        "##Garage"
      ],
      "metadata": {
        "id": "9pvdAXjpsRcU"
      }
    },
    {
      "cell_type": "code",
      "source": [
        "preprocessor.convert_to_int(data, 'garage')"
      ],
      "metadata": {
        "colab": {
          "base_uri": "https://localhost:8080/"
        },
        "id": "BgoY4-w7kLla",
        "outputId": "29e4df18-b005-41fa-a4e3-9565ed8af7cd"
      },
      "execution_count": 20,
      "outputs": [
        {
          "output_type": "stream",
          "name": "stdout",
          "text": [
            "Found non-numeric values in column 'garage':\n",
            "          MLS  sold_price  zipcode   longitude   latitude  lot_acres  \\\n",
            "2     3054672   4200000.0    85646 -111.040707  31.594844    1707.00   \n",
            "263   4115554   1200000.0    85646 -111.040612  31.594683      91.70   \n",
            "590   4113651    900000.0    85646 -111.037399  31.574636      34.45   \n",
            "2106  3056848    550000.0    85645 -111.047608  31.700763      50.00   \n",
            "4273  3056944    490000.0    85601 -111.299661  31.584170      38.98   \n",
            "4275  4116010    490000.0    85601 -111.299663  31.584173      38.98   \n",
            "4999  4111490    450000.0    85621 -110.913054  31.385259       4.16   \n",
            "\n",
            "         taxes  year_built  bedrooms  bathrooms sqrt_ft garage  \\\n",
            "2     10482.00        1997         2          3    None   None   \n",
            "263    8473.86        1925         6          5    6884   None   \n",
            "590    3354.10        1964         3          3    2759   None   \n",
            "2106  25113.45        1936        36         35    None   None   \n",
            "4273   5739.00        1977         4          3    None   None   \n",
            "4275   5739.00        1977         4          3    2811   None   \n",
            "4999   2814.48        1988         4          4    4317   None   \n",
            "\n",
            "                                       kitchen_features  fireplaces  \\\n",
            "2            Dishwasher, Garbage Disposal, Refrigerator         5.0   \n",
            "263   Dishwasher, Double Sink, Island, Prep Sink, Re...         7.0   \n",
            "590   Dishwasher, Double Sink, Garbage Disposal, Ref...         2.0   \n",
            "2106                                          Prep Sink         1.0   \n",
            "4273  Dishwasher, Double Sink, Electric Range, Garba...         1.0   \n",
            "4275  Dishwasher, Double Sink, Electric Range, Garba...         1.0   \n",
            "4999  Compactor, Dishwasher, Double Sink, Island, Ap...         3.0   \n",
            "\n",
            "                  floor_covering   HOA  \n",
            "2     Natural Stone, Other: Rock  None  \n",
            "263             Carpet, Concrete  None  \n",
            "590                     Concrete  None  \n",
            "2106  Ceramic Tile, Mexican Tile  None  \n",
            "4273               Carpet, Vinyl  None  \n",
            "4275               Carpet, Vinyl  None  \n",
            "4999        Carpet, Mexican Tile  None  \n",
            "[ 0  4  3  5  2  6 15  8  7  1  9 22 30 12 10 11 20 13]\n"
          ]
        }
      ]
    },
    {
      "cell_type": "markdown",
      "source": [
        "##Sqrt_ft"
      ],
      "metadata": {
        "id": "b_P1vEMCsv6U"
      }
    },
    {
      "cell_type": "code",
      "source": [
        "preprocessor.convert_to_int(data, 'sqrt_ft')"
      ],
      "metadata": {
        "colab": {
          "base_uri": "https://localhost:8080/"
        },
        "id": "1vxLpBS8scVM",
        "outputId": "b15c9eaf-6768-4012-bd3c-cad36eb90469"
      },
      "execution_count": 21,
      "outputs": [
        {
          "output_type": "stream",
          "name": "stdout",
          "text": [
            "Found non-numeric values in column 'sqrt_ft':\n",
            "          MLS  sold_price  zipcode   longitude   latitude  lot_acres  \\\n",
            "2     3054672   4200000.0    85646 -111.040707  31.594844    1707.00   \n",
            "490   3055989    950000.0    85646 -111.073405  31.619537       4.40   \n",
            "967   3058213    695000.0    85645 -111.183593  31.702330       0.99   \n",
            "1064  3056708    785045.0    85646 -110.942060  31.552399      73.42   \n",
            "1373  3059704    750000.0    85622 -111.001762  31.841975       2.72   \n",
            "1659  3055188    700000.0    85646 -111.046366  31.623839       0.99   \n",
            "1728  3057818    565000.0    85646 -111.050885  31.627210       0.72   \n",
            "1729  3044500    675000.0    85629 -110.961128  31.869810       1.02   \n",
            "1730  3053678    700000.0    85645 -111.239637  31.662369     172.76   \n",
            "1731  3059581    715000.0    85622 -111.040615  31.804808       4.72   \n",
            "1863  3052969    750000.0    85622 -111.002640  31.846861       4.58   \n",
            "2025  3044867    660000.0    85614 -110.969465  31.836723       3.60   \n",
            "2106  3056848    550000.0    85645 -111.047608  31.700763      50.00   \n",
            "2108  3059493    705000.0    85614 -110.960333  31.854886       1.06   \n",
            "2357  3060312    690000.0    85646 -111.052693  31.630004       1.85   \n",
            "2401  3062128    685000.0    85614 -110.961349  31.856615       1.10   \n",
            "2447  3057749    620000.0    85646 -111.066782  31.601831      10.31   \n",
            "2564  3051223    680000.0    85622 -111.000925  31.836922       0.99   \n",
            "2635  3060713    650000.0    85646 -111.043573  31.633469       0.90   \n",
            "2636  3050955    565000.0    85622 -111.000616  31.843046       2.74   \n",
            "2766  3042851    575000.0    85614 -110.960497  31.854446       0.87   \n",
            "2876  3059328    560100.0    85646 -111.050957  31.626585       0.78   \n",
            "2915  3055533    625000.0    85614 -110.974513  31.836495       2.01   \n",
            "2917  3055386    580000.0    85629 -110.941544  31.879379       0.27   \n",
            "2932  3052988    625000.0    85614 -110.960215  31.857286       0.97   \n",
            "2939  3060029    655000.0    85614 -110.971212  31.835117       0.99   \n",
            "3108  3047540    610000.0    85614 -111.002544  31.840061       1.70   \n",
            "3299  3047349    540000.0    85646 -111.051221  31.631630       0.90   \n",
            "3372  3061474    600000.0    85646 -111.027596  31.648478      10.00   \n",
            "3404  3061325    625000.0    85614 -110.963597  31.848245       1.38   \n",
            "3420  3059875    605000.0    85622 -111.009941  31.839620       0.99   \n",
            "3529  3046317    535000.0    85614 -110.986426  31.806614       4.27   \n",
            "3530  3050480    580000.0    85622 -111.007069  31.846199       0.99   \n",
            "3531  3054250    630000.0    85622 -111.012511  31.843514       2.98   \n",
            "3556  3054492    624900.0    85614 -110.943269  31.880472       0.25   \n",
            "3620  3056206    580000.0    85614 -110.975396  31.830974       6.52   \n",
            "3647  3061363    606000.0    85614 -110.970832  31.842606       1.54   \n",
            "3672  3061172    610000.0    85622 -111.007363  31.841543       1.58   \n",
            "3818  3052078    570000.0    85622 -111.013274  31.841175       1.00   \n",
            "3819  3060897    570000.0    85614 -110.978669  31.832586       4.00   \n",
            "3822  3045347    550000.0    85614 -111.008754  31.841141       0.99   \n",
            "3983  3050843    579000.0    85622 -111.005401  31.838947       1.60   \n",
            "3984  3052794    540000.0    85622 -111.001859  31.837066       0.95   \n",
            "4003  3059616    600000.0    85614 -110.978365  31.823326       3.00   \n",
            "4020  3059457    585000.0    85614 -110.942704  31.897662       0.21   \n",
            "4173  3059167    550000.0    85614 -110.940656  31.878329       0.99   \n",
            "4273  3056944    490000.0    85601 -111.299661  31.584170      38.98   \n",
            "4286  3050688    584165.0    85622 -111.039164  31.790671       0.99   \n",
            "4365  3053499    545000.0    85614 -110.978688  31.832598       0.99   \n",
            "4662  3051343    544000.0    85622 -111.004190  31.835595       1.00   \n",
            "4723  3053192    540000.0    85614 -110.970464  31.837728       2.08   \n",
            "4724  3055336    510000.0    85646 -111.091642  31.582936       7.00   \n",
            "4783  3058623    530000.0    85622 -111.009020  31.839576       0.99   \n",
            "4812  3046287    500000.0    85646 -111.051431  31.636207       1.03   \n",
            "4991  3052471    525000.0    85622 -111.038888  31.791324       0.95   \n",
            "4992  3056450    525000.0    85614 -110.980945  31.824287       3.01   \n",
            "\n",
            "         taxes  year_built  bedrooms  bathrooms sqrt_ft  garage  \\\n",
            "2     10482.00        1997         2          3    None       0   \n",
            "490   13193.80        2008         3          7    None       4   \n",
            "967    2480.58        1932         4          4    None       2   \n",
            "1064  20761.40        2000         2          6    None       2   \n",
            "1373   7169.90        1995         6          7    None       3   \n",
            "1659   6740.66        2007         3          4    None       3   \n",
            "1728   4651.00        1969         3          3    None       2   \n",
            "1729   4662.64        2007         3          4    None       3   \n",
            "1730   7501.42        2000         3          3    None       2   \n",
            "1731   3841.03        1998         4          5    None       5   \n",
            "1863   4578.00        1977         5          4    None       4   \n",
            "2025   5526.00        2007         3          0    None       3   \n",
            "2106  25113.45        1936        36         35    None       0   \n",
            "2108   6628.17        2007         5          4    None       4   \n",
            "2357   4884.00        1997         3          4    None       3   \n",
            "2401   5898.42        2006         3          4    None       3   \n",
            "2447   5365.14        2004         3          4    None       3   \n",
            "2564   4158.40        2007         3          4    None       3   \n",
            "2635   4235.00        1985         3          3    None       2   \n",
            "2636   3787.80        1992         2          3    None       2   \n",
            "2766   4623.05        2002         3          0    None       3   \n",
            "2876   4716.00        1999         3          3    None       2   \n",
            "2915   5605.00        2007         3          4    None       3   \n",
            "2917    765.87        2014         2          3    None       3   \n",
            "2932   5518.75        2007         3          3    None       3   \n",
            "2939   6433.00        2001         3          4    None       3   \n",
            "3108   3800.00        2007         3          0    None       3   \n",
            "3299   8590.38        1989         4          4    None       3   \n",
            "3372   2903.76        1987         4          3    None       2   \n",
            "3404   5947.00        1998         4          4    None       2   \n",
            "3420   6134.56        2012         4          4    None       2   \n",
            "3529   3826.25        2006         2          0    None       3   \n",
            "3530   4498.01        1987         3          3    None       5   \n",
            "3531   7248.68        1976         3          4    None       3   \n",
            "3556    302.26        2013         3          4    None       3   \n",
            "3620   5902.03        2004         4          3    None       3   \n",
            "3647   2016.00        2003         3          3    None       3   \n",
            "3672   5461.97        2006         4          4    None       3   \n",
            "3818   3377.68        2003         3          3    None       3   \n",
            "3819   5222.20        2001         3          3    None       3   \n",
            "3822   3702.07        2007         2          0    None       3   \n",
            "3983   3689.00        2007         2          3    None       3   \n",
            "3984   4093.07        2006         3          4    None       3   \n",
            "4003   5493.00        2010         3          3    None       2   \n",
            "4020   4578.68        2011         4          5    None       2   \n",
            "4173   5630.10        2013         3          4    None       3   \n",
            "4273   5739.00        1977         4          3    None       0   \n",
            "4286    653.47        2012         2          2    None       3   \n",
            "4365   4817.00        2001         3          3    None       3   \n",
            "4662   3275.00        1985         3          3    None       2   \n",
            "4723   5077.95        2007         4          3    None       3   \n",
            "4724   4405.70        1995         3          3    None       2   \n",
            "4783   5264.34        2009         3          4    None       2   \n",
            "4812   8102.00        1999         4          0    None       2   \n",
            "4991   3919.93        2010         3          3    None       3   \n",
            "4992   5122.84        2007         3          3    None       3   \n",
            "\n",
            "                                       kitchen_features  fireplaces  \\\n",
            "2            Dishwasher, Garbage Disposal, Refrigerator         5.0   \n",
            "490   Compactor, Dishwasher, Double Sink, Pantry: Bu...         3.0   \n",
            "967   Dishwasher, Double Sink, Gas Range, Refrigerat...         1.0   \n",
            "1064  Compactor, Dishwasher, Double Sink, Garbage Di...         7.0   \n",
            "1373  Desk, Dishwasher, Double Sink, Garbage Disposa...         3.0   \n",
            "1659  Dishwasher, Double Sink, Freezer, Garbage Disp...         1.0   \n",
            "1728  Desk, Dishwasher, Electric Range, Garbage Disp...         3.0   \n",
            "1729  Desk, Dishwasher, Garbage Disposal, Gas Range,...         1.0   \n",
            "1730  Dishwasher, Electric Range, Garbage Disposal, ...         1.0   \n",
            "1731  Double Sink, Electric Range, Garbage Disposal,...         2.0   \n",
            "1863  Dishwasher, Double Sink, Garbage Disposal, Gas...         1.0   \n",
            "2025  Desk, Dishwasher, Garbage Disposal, Gas Range,...         1.0   \n",
            "2106                                          Prep Sink         1.0   \n",
            "2108  Dishwasher, Double Sink, Garbage Disposal, Gas...         2.0   \n",
            "2357  Dishwasher, Double Sink, Garbage Disposal, Gas...         1.0   \n",
            "2401  Dishwasher, Double Sink, Garbage Disposal, Isl...         2.0   \n",
            "2447  Compactor, Dishwasher, Double Sink, Garbage Di...         3.0   \n",
            "2564  Dishwasher, Double Sink, Garbage Disposal, Gas...         1.0   \n",
            "2635  Dishwasher, Electric Range, Garbage Disposal, ...         1.0   \n",
            "2636  Compactor, Dishwasher, Double Sink, Electric R...         2.0   \n",
            "2766  Dishwasher, Garbage Disposal, Gas Range, Islan...         1.0   \n",
            "2876  Dishwasher, Double Sink, Garbage Disposal, Ref...         1.0   \n",
            "2915  Dishwasher, Garbage Disposal, Gas Range, Islan...         2.0   \n",
            "2917  Dishwasher, Garbage Disposal, Gas Range, Islan...         1.0   \n",
            "2932  Dishwasher, Double Sink, Garbage Disposal, Gas...         1.0   \n",
            "2939  Dishwasher, Double Sink, Electric Range, Garba...         1.0   \n",
            "3108                                               None         1.0   \n",
            "3299  Compactor, Dishwasher, Garbage Disposal, Gas R...         3.0   \n",
            "3372  Dishwasher, Double Sink, Pantry: Cabinet, Refr...         3.0   \n",
            "3404  Compactor, Dishwasher, Garbage Disposal, Gas R...         1.0   \n",
            "3420  Compactor, Dishwasher, Double Sink, Garbage Di...         1.0   \n",
            "3529  Dishwasher, Garbage Disposal, Gas Range, Islan...         1.0   \n",
            "3530  Dishwasher, Double Sink, Electric Range, Garba...         1.0   \n",
            "3531  Compactor, Desk, Dishwasher, Double Sink, Elec...         2.0   \n",
            "3556  Dishwasher, Electric Range, Garbage Disposal, ...         1.0   \n",
            "3620  Dishwasher, Garbage Disposal, Gas Range, Pantr...         2.0   \n",
            "3647  Dishwasher, Garbage Disposal, Gas Range, Islan...         1.0   \n",
            "3672  Dishwasher, Double Sink, Garbage Disposal, Gas...         3.0   \n",
            "3818  Dishwasher, Double Sink, Garbage Disposal, Gas...         1.0   \n",
            "3819  Dishwasher, Double Sink, Garbage Disposal, Gas...         2.0   \n",
            "3822  Dishwasher, Garbage Disposal, Island, Lazy Sus...         1.0   \n",
            "3983  Compactor, Dishwasher, Garbage Disposal, Gas R...         2.0   \n",
            "3984  Dishwasher, Double Sink, Garbage Disposal, Gas...         1.0   \n",
            "4003  Dishwasher, Double Sink, Electric Range, Garba...         1.0   \n",
            "4020  Desk, Dishwasher, Double Sink, Electric Range,...         2.0   \n",
            "4173  Dishwasher, Double Sink, Electric Range, Garba...         1.0   \n",
            "4273  Dishwasher, Double Sink, Electric Range, Garba...         1.0   \n",
            "4286  Dishwasher, Double Sink, Pantry: Closet, Count...         1.0   \n",
            "4365  Dishwasher, Double Sink, Garbage Disposal, Gas...         1.0   \n",
            "4662  Desk, Dishwasher, Double Sink, Garbage Disposa...         2.0   \n",
            "4723  Dishwasher, Double Sink, Garbage Disposal, Gas...         2.0   \n",
            "4724  Compactor, Dishwasher, Double Sink, Electric R...         1.0   \n",
            "4783  Dishwasher, Double Sink, Garbage Disposal, Gas...         1.0   \n",
            "4812  Dishwasher, Electric Range, Garbage Disposal, ...         1.0   \n",
            "4991  Dishwasher, Double Sink, Electric Range, Garba...         1.0   \n",
            "4992  Dishwasher, Garbage Disposal, Gas Range, Refri...         1.0   \n",
            "\n",
            "                                     floor_covering    HOA  \n",
            "2                        Natural Stone, Other: Rock   None  \n",
            "490                       Mexican Tile, Wood, Other   None  \n",
            "967                                    Ceramic Tile   None  \n",
            "1064                             Ceramic Tile, Wood   None  \n",
            "1373                                   Ceramic Tile   None  \n",
            "1659                                  Natural Stone    157  \n",
            "1728              Mexican Tile, Natural Stone, Wood     21  \n",
            "1729  Carpet, Mexican Tile, Wood, Other: Tile-Other  149.5  \n",
            "1730             Carpet, Ceramic Tile, Mexican Tile   None  \n",
            "1731                           Carpet, Ceramic Tile   None  \n",
            "1863       Natural Stone, Other: Travertine & Slate   None  \n",
            "2025                      Carpet, Other: Tile-Other  1,000  \n",
            "2106                     Ceramic Tile, Mexican Tile   None  \n",
            "2108  Ceramic Tile, Wood, Other: Travertine Accents  16.66  \n",
            "2357                                   Ceramic Tile     21  \n",
            "2401                           Carpet, Ceramic Tile  16.67  \n",
            "2447                             Ceramic Tile, Wood   None  \n",
            "2564                           Carpet, Ceramic Tile    100  \n",
            "2635                           Carpet, Ceramic Tile     22  \n",
            "2636                                   Mexican Tile   None  \n",
            "2766                                  Carpet, Other    250  \n",
            "2876                           Carpet, Mexican Tile     21  \n",
            "2915                 Wood, Other: Travertine/Marble  83.34  \n",
            "2917                             Ceramic Tile, Wood    148  \n",
            "2932                  Carpet, Other: Porcelain Tile  16.66  \n",
            "2939                           Carpet, Ceramic Tile  83.33  \n",
            "3108                                           None  1,200  \n",
            "3299                              Other: Tile-Other    250  \n",
            "3372                           Carpet, Ceramic Tile   None  \n",
            "3404   Carpet, Ceramic Tile, Other: Travertine tile     17  \n",
            "3420                           Carpet, Ceramic Tile     85  \n",
            "3529                      Carpet, Other: Tile-Other   None  \n",
            "3530                           Carpet, Mexican Tile   None  \n",
            "3531   Carpet, Ceramic Tile, Other: Brick in Studio   None  \n",
            "3556                                   Ceramic Tile    158  \n",
            "3620                           Carpet, Ceramic Tile  33.33  \n",
            "3647                           Carpet, Ceramic Tile     83  \n",
            "3672                           Carpet, Ceramic Tile   None  \n",
            "3818              Concrete, Other: Stained concrete   2.08  \n",
            "3819                           Carpet, Ceramic Tile  35.83  \n",
            "3822                      Carpet, Other: Tile-Other  1,200  \n",
            "3983                           Carpet, Ceramic Tile    100  \n",
            "3984       Ceramic Tile, Other: 20 x 20 on Diagonal    100  \n",
            "4003                                       Concrete     37  \n",
            "4020                           Carpet, Ceramic Tile    158  \n",
            "4173                           Carpet, Ceramic Tile    158  \n",
            "4273                                  Carpet, Vinyl   None  \n",
            "4286                                   Ceramic Tile   None  \n",
            "4365                      Carpet, Other: Travertine  33.33  \n",
            "4662                           Carpet, Ceramic Tile   2.08  \n",
            "4723                           Carpet, Ceramic Tile  83.34  \n",
            "4724                            Natural Stone, Wood    150  \n",
            "4783                                   Ceramic Tile     85  \n",
            "4812                           Carpet, Mexican Tile    250  \n",
            "4991                          Carpet, Other: Marble  78.65  \n",
            "4992                          Concrete, Other: Cork     37  \n",
            "[10500  7300     0 ...  2106  3601  1772]\n"
          ]
        }
      ]
    },
    {
      "cell_type": "markdown",
      "source": [
        "##kitchen_features"
      ],
      "metadata": {
        "id": "SZefseavyPbY"
      }
    },
    {
      "cell_type": "code",
      "source": [
        "# check the unique values present in the column and investigate if there are any non-numeric values\n",
        "data['kitchen_features'].unique()"
      ],
      "metadata": {
        "colab": {
          "base_uri": "https://localhost:8080/"
        },
        "id": "ogWW876LzSMO",
        "outputId": "677e4404-975c-498e-8027-eab6ed8915d9"
      },
      "execution_count": 22,
      "outputs": [
        {
          "output_type": "execute_result",
          "data": {
            "text/plain": [
              "array(['Dishwasher, Freezer, Refrigerator, Oven',\n",
              "       'Dishwasher, Garbage Disposal',\n",
              "       'Dishwasher, Garbage Disposal, Refrigerator', ...,\n",
              "       'Dishwasher, Electric Range, Island, Refrigerator, Reverse Osmosis, Appliance Color: Stainless',\n",
              "       'Dishwasher, Double Sink, Garbage Disposal, Gas Range, Pantry: Cabinet, Appliance Color: Stainless, Countertops: Granite slab, Microwave: Stainless over oven, Oven: wall',\n",
              "       'Compactor, Dishwasher, Double Sink, Island, Appliance Color: Stainless'],\n",
              "      dtype=object)"
            ]
          },
          "metadata": {},
          "execution_count": 22
        }
      ]
    },
    {
      "cell_type": "markdown",
      "source": [
        "In the code below, we first assign the unique values of the kitchen_features column to the kitchen_features variable. Then we create a dictionary with the feature names as keys and their corresponding index as values. Finally, we use the map() method to replace each feature name with its index."
      ],
      "metadata": {
        "id": "mLemdT76K-gV"
      }
    },
    {
      "cell_type": "code",
      "source": [
        "# Example usage on kitchen_features column\n",
        "preprocessor.resolve_categorical(data, 'kitchen_features')\n",
        "kitchen_features = data['kitchen_features'].unique()\n",
        "data['kitchen_features_values'] = data['kitchen_features'].map({feature: i for i, feature in enumerate(kitchen_features)})\n"
      ],
      "metadata": {
        "colab": {
          "base_uri": "https://localhost:8080/"
        },
        "id": "CTtgiHOT6cHO",
        "outputId": "6ebbc1f7-e258-42d8-caea-a576d7088690"
      },
      "execution_count": 23,
      "outputs": [
        {
          "output_type": "stream",
          "name": "stdout",
          "text": [
            "[   2   21   68    1 1719   71   22  189  127   97  181    5    9    4\n",
            "    3   17    7   15   33  270   27   11   14   12   19   10    6   24\n",
            "    8]\n"
          ]
        }
      ]
    },
    {
      "cell_type": "markdown",
      "source": [
        "##floor_covering"
      ],
      "metadata": {
        "id": "c7ABiJ4WdxaQ"
      }
    },
    {
      "cell_type": "code",
      "source": [
        "# check the unique values present in the column and investigate if there are any non-numeric values\n",
        "data['floor_covering'].unique()"
      ],
      "metadata": {
        "colab": {
          "base_uri": "https://localhost:8080/"
        },
        "id": "0k_r6p9td0sP",
        "outputId": "3db844b6-fb5f-4f7a-8b43-cda3f468bf53"
      },
      "execution_count": 24,
      "outputs": [
        {
          "output_type": "execute_result",
          "data": {
            "text/plain": [
              "array(['Mexican Tile, Wood', 'Natural Stone, Other',\n",
              "       'Natural Stone, Other: Rock', 'Ceramic Tile, Laminate, Wood',\n",
              "       'Carpet, Concrete', 'Natural Stone, Wood, Other',\n",
              "       'Carpet, Natural Stone, Wood, Other',\n",
              "       'Carpet, Natural Stone, Wood', 'Concrete, Natural Stone, Wood',\n",
              "       'Mexican Tile, Natural Stone, Wood', 'Natural Stone',\n",
              "       'Natural Stone, Wood', 'Carpet, Natural Stone',\n",
              "       'Carpet, Concrete, Natural Stone, Wood',\n",
              "       'Carpet, Concrete, Mexican Tile',\n",
              "       'Carpet, Ceramic Tile, Natural Stone', 'Concrete',\n",
              "       'Carpet, Mexican Tile, Other', 'Carpet, Other: Porcelain',\n",
              "       'Carpet, Other', 'Carpet, Ceramic Tile, Mexican Tile',\n",
              "       'Ceramic Tile, Mexican Tile', 'Carpet, Mexican Tile',\n",
              "       'Carpet, Natural Stone, Vinyl', 'Ceramic Tile',\n",
              "       'Carpet, Wood, Other: Brick', 'Carpet, Wood, Other',\n",
              "       'Ceramic Tile, Mexican Tile, Wood',\n",
              "       'Carpet, Natural Stone, Other: Brick Pavers', 'Wood',\n",
              "       'Mexican Tile', 'Carpet, Wood, Other: Flagstone',\n",
              "       'Ceramic Tile, Concrete, Wood, Other: Marble-Master Bath',\n",
              "       'Ceramic Tile, Concrete', 'Concrete, Wood',\n",
              "       'Ceramic Tile, Natural Stone, Wood, Other: Marble, Granite',\n",
              "       'Carpet, Ceramic Tile, Other: Marble',\n",
              "       'Carpet, Concrete, Natural Stone', 'Carpet, Ceramic Tile',\n",
              "       'Carpet, Ceramic Tile, Wood',\n",
              "       'Carpet, Ceramic Tile, Natural Stone, Wood',\n",
              "       'Carpet, Concrete, Laminate, Natural Stone',\n",
              "       'Carpet, Ceramic Tile, Concrete', 'Carpet, Ceramic Tile, Other',\n",
              "       'Carpet, Mexican Tile, Wood', 'Concrete, Mexican Tile, Wood',\n",
              "       'Concrete, Mexican Tile, Wood, Other: concrete tile',\n",
              "       'Ceramic Tile, Wood', 'Laminate, Wood, Other: Porcelain Tile',\n",
              "       'Other: Quartzite', 'Concrete, Natural Stone',\n",
              "       'Carpet, Mexican Tile, Natural Stone', 'Other: Porcelyn',\n",
              "       'Carpet, Ceramic Tile, Concrete, Wood', 'Other: Tile',\n",
              "       'Other: Porcelain Tile',\n",
              "       'Carpet, Ceramic Tile, Concrete, Natural Stone, Wood',\n",
              "       'Carpet, Mexican Tile, Natural Stone, Wood',\n",
              "       'Carpet, Concrete, Wood', 'Carpet, Ceramic Tile, Wood, Other',\n",
              "       'Concrete, Wood, Other: Porcelain tile',\n",
              "       'Carpet, Other: Porcelain tile',\n",
              "       'Ceramic Tile, Concrete, Natural Stone, Wood',\n",
              "       'Carpet, Ceramic Tile, Laminate, Natural Stone',\n",
              "       'Carpet, Ceramic Tile, Natural Stone, Vinyl', 'Other',\n",
              "       'Carpet, Wood', 'Concrete, Mexican Tile',\n",
              "       'Mexican Tile, Other: CONCRETE TILE',\n",
              "       'Carpet, Natural Stone, Other', 'Ceramic Tile, Natural Stone',\n",
              "       'Carpet, Ceramic Tile, Mexican Tile, Wood',\n",
              "       'Carpet, Natural Stone, Other: Brick Floor',\n",
              "       'Concrete, Other: Saltillo',\n",
              "       'Carpet, Ceramic Tile, Wood, Other: Brick',\n",
              "       'Carpet, Wood, Other: Travertine Tile',\n",
              "       'Ceramic Tile, Indoor/Outdoor, Wood, Other',\n",
              "       'Ceramic Tile, Concrete, Mexican Tile, Other',\n",
              "       'Carpet, Concrete, Other', 'Natural Stone, Other: Travertine',\n",
              "       'Mexican Tile, Wood, Other', 'Wood, Other: Lime Stone',\n",
              "       'Carpet, Ceramic Tile, Natural Stone, Wood, Other',\n",
              "       'Other: Porcelain', 'Other: Travertine', 'Other: Flagstone',\n",
              "       'Natural Stone, Other: Limestone', 'Carpet, Other: Travertine',\n",
              "       'Carpet, Ceramic Tile, Laminate, Wood',\n",
              "       'Carpet, Ceramic Tile, Indoor/Outdoor, Natural Stone',\n",
              "       'Ceramic Tile, Concrete, Mexican Tile, Wood',\n",
              "       'Ceramic Tile, Concrete, Wood',\n",
              "       'Ceramic Tile, Natural Stone, Wood', 'Ceramic Tile, Wood, Other',\n",
              "       'Carpet, Mexican Tile, Other: Multiple Types',\n",
              "       'Carpet, Vinyl, Wood', 'Carpet, Laminate, Natural Stone, Wood',\n",
              "       'Carpet, Other: Brick', 'Carpet, Ceramic Tile, Concrete, Vinyl',\n",
              "       'Ceramic Tile, Mexican Tile, Vinyl, Wood',\n",
              "       'Mexican Tile, Natural Stone',\n",
              "       'Carpet, Ceramic Tile, Concrete, Mexican Tile',\n",
              "       'Carpet, Ceramic Tile, Concrete, Mexican Tile, Wood',\n",
              "       'Ceramic Tile, Concrete, Wood, Other: Refinished Brick',\n",
              "       'Mexican Tile, Natural Stone, Wood, Other: studio laminate',\n",
              "       'Carpet, Wood, Other: Porcelain/Engineered',\n",
              "       'Carpet, Concrete, Natural Stone, Wood, Other',\n",
              "       'Carpet, Ceramic Tile, Concrete, Other: Brick inlayed',\n",
              "       'Carpet, Other: Flagstone', 'Ceramic Tile, Vinyl, Wood',\n",
              "       'Ceramic Tile, Concrete, Vinyl, Other: Terrazzo',\n",
              "       'Ceramic Tile, Concrete, Natural Stone',\n",
              "       'Ceramic Tile, Vinyl, Other: Cement tiles/Bamboo',\n",
              "       'Carpet, Ceramic Tile, Laminate',\n",
              "       'Carpet, Laminate, Natural Stone',\n",
              "       'Carpet, Mexican Tile, Other: Brick',\n",
              "       'Carpet, Other: Brick Pavers', 'Carpet, Concrete, Other: Brick',\n",
              "       'Wood, Other', 'Carpet, Other: Porcelain Tile', 'Carpet',\n",
              "       'Carpet, Other: Slate', 'Carpet, Ceramic Tile, Concrete, Other',\n",
              "       'Carpet, Natural Stone, Vinyl, Wood',\n",
              "       'Carpet, Other: gray saltillo',\n",
              "       'Carpet, Ceramic Tile, Indoor/Outdoor', 'Other: Porcelain tile',\n",
              "       'Carpet, Vinyl, Other', 'Natural Stone, Wood, Other: Marble',\n",
              "       'Carpet, Mexican Tile, Wood, Other',\n",
              "       'Carpet, Natural Stone, Other: Travertine',\n",
              "       'Natural Stone, Wood, Other: Organic Wool Carpet',\n",
              "       'Carpet, Ceramic Tile, Concrete, Mexican Tile, Natural Stone',\n",
              "       'Carpet, Ceramic Tile, Natural Stone, Other', 'Other: Brick',\n",
              "       'Carpet, Other: brick', 'Concrete, Wood, Other: flagstone',\n",
              "       'Ceramic Tile, Laminate, Natural Stone',\n",
              "       'Carpet, Natural Stone, Wood, Other: Egytian sandstone',\n",
              "       'Carpet, Other: Travertine & slate',\n",
              "       'Carpet, Ceramic Tile, Concrete, Natural Stone',\n",
              "       'Ceramic Tile, Concrete, Wood, Other',\n",
              "       'Carpet, Concrete, Mexican Tile, Natural Stone',\n",
              "       'Carpet, Laminate, Other: Porcelain Tile',\n",
              "       'Ceramic Tile, Laminate', 'Carpet, Laminate, Other: Cork',\n",
              "       'Ceramic Tile, Mexican Tile, Natural Stone',\n",
              "       'Carpet, Laminate, Other: Brick', 'Carpet, Laminate',\n",
              "       'Carpet, Ceramic Tile, Mexican Tile, Natural Stone',\n",
              "       'Carpet, Ceramic Tile, Vinyl',\n",
              "       'Carpet, Wood, Other: Porcelain Tile', 'Other: TBD',\n",
              "       'Ceramic Tile, Mexican Tile, Wood, Other', 'Concrete, Vinyl, Wood',\n",
              "       'Carpet, Ceramic Tile, Mexican Tile, Vinyl',\n",
              "       'Carpet, Other: porcelain tile', 'Mexican Tile, Other',\n",
              "       'Concrete, Other: porclain tile',\n",
              "       'Carpet, Laminate, Mexican Tile, Other: Travertine',\n",
              "       'Mexican Tile, Other: Porcelain',\n",
              "       'Ceramic Tile, Concrete, Mexican Tile', 'Ceramic Tile, Other',\n",
              "       'Carpet, Mexican Tile, Wood, Other: Travertine', 'Other: None',\n",
              "       'Carpet, Concrete, Mexican Tile, Wood',\n",
              "       'Carpet, Ceramic Tile, Mexican Tile, Natural Stone, Wood',\n",
              "       'Other: 100% Porcelain Tile',\n",
              "       'Mexican Tile, Other: San Marcos Mex Tile',\n",
              "       'Carpet, Ceramic Tile, Natural Stone, Other: Travertine',\n",
              "       'Carpet, Mexican Tile, Wood, Other: Tile-Other',\n",
              "       'Ceramic Tile, Laminate, Other: carpet- guest house',\n",
              "       'Carpet, Natural Stone, Other: travertine/flagstone',\n",
              "       'Other: Recycled Porcelain',\n",
              "       'Carpet, Ceramic Tile, Other: Travertine',\n",
              "       'Ceramic Tile, Concrete, Mexican Tile, Natural Stone',\n",
              "       'Carpet, Laminate, Wood', 'Carpet, Other: Slate tile',\n",
              "       'Mexican Tile, Wood, Other: Brick',\n",
              "       'Carpet, Ceramic Tile, Mexican Tile, Other',\n",
              "       'Carpet, Concrete, Laminate',\n",
              "       'Ceramic Tile, Mexican Tile, Natural Stone, Wood',\n",
              "       'Natural Stone, Other: Travertine & Slate',\n",
              "       'Carpet, Laminate, Other: Porclain Tile', 'Concrete, Wood, Other',\n",
              "       'Carpet, Concrete, Wood, Other: travertine',\n",
              "       'Concrete, Wood, Other: Mesquite wood floors',\n",
              "       'Carpet, Ceramic Tile, Wood, Other: Slate',\n",
              "       'Carpet, Other: brick pavers', 'Concrete, Other',\n",
              "       'Carpet, Laminate, Mexican Tile, Natural Stone',\n",
              "       'Carpet, Concrete, Natural Stone, Other: Travertine',\n",
              "       'Carpet, Other: Tile-Other',\n",
              "       'Carpet, Mexican Tile, Other: Concrete tile',\n",
              "       'Ceramic Tile, Concrete, Other', 'Ceramic Tile, Concrete, Vinyl',\n",
              "       'Carpet, Ceramic Tile, Other: Porcelain', 'Other: travertine',\n",
              "       'Ceramic Tile, Wood, Other: Travertine Accents',\n",
              "       'Carpet, Ceramic Tile, Mexican Tile, Wood, Other',\n",
              "       'Other: Luxury Vinyl',\n",
              "       'Carpet, Concrete, Mexican Tile, Wood, Other',\n",
              "       'Ceramic Tile, Other: Throughout home',\n",
              "       'Carpet, Concrete, Other: Rojo Concrete Overla',\n",
              "       'Carpet, Ceramic Tile, Other: Wood laminate',\n",
              "       'Carpet, Ceramic Tile, Concrete, Wood, Other',\n",
              "       'Carpet, Concrete, Wood, Other: Travertine Tile',\n",
              "       'Other: Italian tile',\n",
              "       'Carpet, Ceramic Tile, Other: Brazilian Pergo',\n",
              "       'Carpet, Ceramic Tile, Natural Stone, Other: engineered wood',\n",
              "       'Laminate, Mexican Tile, Natural Stone, Wood',\n",
              "       'Carpet, Mexican Tile, Wood, Other: Slate',\n",
              "       'Concrete, Other: Polished Concrete',\n",
              "       'Natural Stone, Wood, Other: Cork', 'Ceramic Tile, Other: Marble',\n",
              "       'Carpet, Concrete, Vinyl', 'Carpet, Other: Talavera Floors',\n",
              "       'Carpet, Ceramic Tile, Other: Vinyl Plank',\n",
              "       'Wood, Other: Travertine', 'Carpet, Wood, Other: travertine',\n",
              "       'Carpet, Ceramic Tile, Other: NEW WOOD PLANK TILE',\n",
              "       'Carpet, Natural Stone, Wood, Other: Travertine',\n",
              "       'Mexican Tile, Other: saltillo', 'Wood, Other: Travertine/Marble',\n",
              "       'Other: Italian Tile',\n",
              "       'Carpet, Natural Stone, Other: Canterra Stone',\n",
              "       'Carpet, Laminate, Mexican Tile',\n",
              "       'Ceramic Tile, Other: Porcelain Plank Tile',\n",
              "       'Mexican Tile, Natural Stone, Other',\n",
              "       'Ceramic Tile, Other: Porcelain Wood Tile',\n",
              "       'Other: Polished Brick', 'None',\n",
              "       'Carpet, Natural Stone, Other: Tile/Powder Rm',\n",
              "       'Carpet, Ceramic Tile, Vinyl, Other: Parquet',\n",
              "       'Wood, Other: porcelain tile',\n",
              "       'Concrete, Natural Stone, Wood, Other',\n",
              "       'Carpet, Ceramic Tile, Vinyl, Wood',\n",
              "       'Carpet, Ceramic Tile, Wood, Other: Itailian Porclaine',\n",
              "       'Carpet, Ceramic Tile, Other: Red Brick',\n",
              "       'Ceramic Tile, Laminate, Other: High End Laminate',\n",
              "       'Carpet, Vinyl', 'Carpet, Ceramic Tile, Concrete, Laminate',\n",
              "       'Carpet, Mexican Tile, Wood, Other: Brick',\n",
              "       'Laminate, Natural Stone',\n",
              "       'Carpet, Ceramic Tile, Other: Master Bedroom/ Tile',\n",
              "       'Carpet, Other: Eng wood', 'Ceramic Tile, Other: concrete tile',\n",
              "       'Other: Tile-Other', 'Carpet, Ceramic Tile, Concrete, Other: cork',\n",
              "       'Carpet, Ceramic Tile, Concrete, Indoor/Outdoor, Natural Stone, Vinyl',\n",
              "       'Carpet, Ceramic Tile, Other: Travertine tile',\n",
              "       'Carpet, Concrete, Natural Stone, Other: See remarks',\n",
              "       'Carpet, Ceramic Tile, Other: PLANK TILE',\n",
              "       'Concrete, Other: Real polishd aggrgt',\n",
              "       'Carpet, Ceramic Tile, Other: Pergo',\n",
              "       'Carpet, Concrete, Laminate, Mexican Tile',\n",
              "       'Carpet, Ceramic Tile, Other: Brick in Studio',\n",
              "       'Laminate, Other: Porcelain tile 24x24',\n",
              "       'Natural Stone, Other: Wood Laminate',\n",
              "       'Ceramic Tile, Concrete, Laminate',\n",
              "       'Concrete, Laminate, Natural Stone, Wood',\n",
              "       'Carpet, Ceramic Tile, Other: Italian Tile',\n",
              "       'Carpet, Indoor/Outdoor, Natural Stone, Wood',\n",
              "       'Carpet, Other: porcelain',\n",
              "       'Carpet, Ceramic Tile, Other: Wood Laminate Water',\n",
              "       'Wood, Other: Porcelain tile',\n",
              "       'Ceramic Tile, Natural Stone, Other', 'Ceramic Tile, Vinyl',\n",
              "       'Carpet, Ceramic Tile, Other: WOOD LAMINATE',\n",
              "       'Concrete, Other: Stained concrete',\n",
              "       'Carpet, Concrete, Wood, Other',\n",
              "       'Carpet, Mexican Tile, Other: Custom Saltillo',\n",
              "       'Other: Saltillo tile', 'Ceramic Tile, Other: 20 x 20 on Diagonal',\n",
              "       'Ceramic Tile, Concrete, Wood, Other: Porcelain Tile',\n",
              "       'Carpet, Ceramic Tile, Laminate, Other: Wood like',\n",
              "       'Laminate, Vinyl', 'Natural Stone, Other: Porcelain-wood',\n",
              "       'Other: Polish concrete', 'Carpet, Ceramic Tile, Other: brick',\n",
              "       'Carpet, Ceramic Tile, Indoor/Outdoor, Wood', 'Concrete, Laminate',\n",
              "       'Carpet, Ceramic Tile, Other: acrylic overlay',\n",
              "       'Carpet, Ceramic Tile, Wood, Other: Saltillo',\n",
              "       'Concrete, Mexican Tile, Other', 'Mexican Tile, Other: Saltillo',\n",
              "       'Concrete, Wood, Other: Marble',\n",
              "       'Ceramic Tile, Other: Engineered Wood',\n",
              "       'Laminate, Mexican Tile, Natural Stone',\n",
              "       'Carpet, Ceramic Tile, Other: Flagstone',\n",
              "       'Carpet, Ceramic Tile, Other: NEW Plank Tile', 'Vinyl, Wood',\n",
              "       'Ceramic Tile, Natural Stone, Wood, Other: Travertine entry',\n",
              "       'Carpet, Other: Travertine Tile',\n",
              "       'Concrete, Laminate, Natural Stone',\n",
              "       'Ceramic Tile, Concrete, Wood, Other: Dyed Concrete',\n",
              "       'Ceramic Tile, Other: Hardwood',\n",
              "       'Carpet, Ceramic Tile, Other: Carpet bedrooms only',\n",
              "       'Ceramic Tile, Other: vinyl planks',\n",
              "       'Ceramic Tile, Other: UPG Flooring',\n",
              "       'Ceramic Tile, Mexican Tile, Other',\n",
              "       'Carpet, Ceramic Tile, Other: Lux Vinyl',\n",
              "       'Mexican Tile, Wood, Other: scored concrete',\n",
              "       'Ceramic Tile, Other: Bamboo',\n",
              "       'Ceramic Tile, Wood, Other: Saltillo on Patio',\n",
              "       'Ceramic Tile, Other: porcelain wood tile',\n",
              "       'Carpet, Ceramic Tile, Other: Wood Laminate',\n",
              "       'Concrete, Wood, Other: Tile bathrooms',\n",
              "       'Carpet, Ceramic Tile, Other: Wood Plan Laminate',\n",
              "       'Carpet, Other: Marble', 'Concrete, Other: Cork'], dtype=object)"
            ]
          },
          "metadata": {},
          "execution_count": 24
        }
      ]
    },
    {
      "cell_type": "code",
      "source": [
        "# Example usage on kitchen_features column\n",
        "preprocessor.resolve_categorical(data, 'floor_covering')\n",
        "kitchen_features = data['floor_covering'].unique()\n",
        "data['floor_covering_values'] = data['floor_covering'].map({feature: i for i, feature in enumerate('floor_covering')})\n"
      ],
      "metadata": {
        "colab": {
          "base_uri": "https://localhost:8080/"
        },
        "id": "jV311DYEd-Vs",
        "outputId": "af396a5f-0416-4b5f-f1ab-be8648ab347a"
      },
      "execution_count": 25,
      "outputs": [
        {
          "output_type": "stream",
          "name": "stdout",
          "text": [
            "[  29    4    1    3   87   11  211   12   14  147  101  579   15  120\n",
            "  242   67   45  247    2   19   13   27   92   31   41   23 1235  258\n",
            "   44   57   25    8  115   16   30    7   10   22    6   33   37   21\n",
            "   24   20    5    9]\n"
          ]
        }
      ]
    },
    {
      "cell_type": "markdown",
      "source": [
        "##HOA"
      ],
      "metadata": {
        "id": "lkH5Uhu5PSm0"
      }
    },
    {
      "cell_type": "code",
      "source": [
        "preprocessor.convert_to_int(data, 'HOA')"
      ],
      "metadata": {
        "colab": {
          "base_uri": "https://localhost:8080/"
        },
        "id": "h50VRFE-PVKv",
        "outputId": "6377b3e0-dc6d-48d9-ee51-d8fceff12af6"
      },
      "execution_count": 26,
      "outputs": [
        {
          "output_type": "stream",
          "name": "stdout",
          "text": [
            "Found non-numeric values in column 'HOA':\n",
            "           MLS  sold_price  zipcode   longitude   latitude  lot_acres  \\\n",
            "2      3054672   4200000.0    85646 -111.040707  31.594844    1707.00   \n",
            "3     21919321   4500000.0    85646 -111.035925  31.645878     636.67   \n",
            "10    21900396   2776518.0    85640 -111.045441  31.562121     147.18   \n",
            "14    21534099   3000000.0    85739 -110.883068  32.508778       0.00   \n",
            "26    21830939   2600000.0    85739 -110.883055  32.508861       0.15   \n",
            "...        ...         ...      ...         ...        ...        ...   \n",
            "4990  21906583    526710.0    85748 -110.728390  32.221871       9.18   \n",
            "4995  21810382    495000.0    85641 -110.661829  31.907917       4.98   \n",
            "4997  21832452    475000.0    85192 -110.755428  32.964708      12.06   \n",
            "4998  21900515    550000.0    85745 -111.055528  32.296871       1.01   \n",
            "4999   4111490    450000.0    85621 -110.913054  31.385259       4.16   \n",
            "\n",
            "         taxes  year_built  bedrooms  bathrooms  sqrt_ft  garage  \\\n",
            "2     10482.00        1997         2          3        0       0   \n",
            "3      8418.58        1930         7          5     9019       4   \n",
            "10     7330.36        1935         5          5     5067       5   \n",
            "14    29669.00        2008         3          3     3095       0   \n",
            "26    30072.26        2008         3          3     3095       0   \n",
            "...        ...         ...       ...        ...      ...     ...   \n",
            "4990   3390.67        1960         4          3     2284       0   \n",
            "4995   2017.00        2005         5          3     3601       3   \n",
            "4997   1000.00        1969         3          2     1772       0   \n",
            "4998   5822.93        2009         4          4     3724       3   \n",
            "4999   2814.48        1988         4          4     4317       0   \n",
            "\n",
            "      kitchen_features  fireplaces  floor_covering     HOA  \\\n",
            "2                   68         5.0               1    None   \n",
            "3                    1         4.0               3    None   \n",
            "10                   1         5.0              12    None   \n",
            "14                1719         3.0             101  20,000   \n",
            "26                   1         3.0             101   1,717   \n",
            "...                ...         ...             ...     ...   \n",
            "4990                 1         1.0              31    None   \n",
            "4995                 1         1.0            1235    None   \n",
            "4997                 1         0.0             247    None   \n",
            "4998                 1         1.0            1235    None   \n",
            "4999                 1         3.0             211    None   \n",
            "\n",
            "      kitchen_features_values  floor_covering_values  \n",
            "2                           2                    NaN  \n",
            "3                           3                    NaN  \n",
            "10                          3                    NaN  \n",
            "14                          4                    NaN  \n",
            "26                          3                    NaN  \n",
            "...                       ...                    ...  \n",
            "4990                        3                    NaN  \n",
            "4995                        3                    NaN  \n",
            "4997                        3                    NaN  \n",
            "4998                        3                    NaN  \n",
            "4999                        3                    NaN  \n",
            "\n",
            "[580 rows x 18 columns]\n",
            "[    0    55   422   220   421   141   357   148 20000   142   173   167\n",
            "   123   300   194  1717   342   240   437   112   199   178   550   258\n",
            "   188   169   124   320   213   153   105   159   193    69   208    50\n",
            "   168   191    79   157   323  1100   250   158   127   149    83   118\n",
            "   219    88   180   259   128   117    48   130   132   135   152    33\n",
            "   143     5   129   171   273   162   131   134   211   203   190   145\n",
            "    63   177    57   115   166   184   164   125   216   195   106   214\n",
            "   238   212     4    30   150    19   160   138   146  1270    15    95\n",
            " 19480   116   311    94    21   295   243    23    34   215    41    18\n",
            "   110   233   322    43   232   100   133   202   700   121    40    51\n",
            "   179    58   102   175    97    25   139   120   137    53  2000   242\n",
            "    49   333   270    84     8   165   506    35    64   108   187   186\n",
            "  1600    12   209   107    45    52    42    22    96    93   122   200\n",
            "   241   161    37   119   155   299   154   170   221   303   140   425\n",
            "   172    68    75    71    44     6   285    67    54     9   113    17\n",
            "   192  1010    78   609    26    16    11    39   144    56   156   263\n",
            "    92    60    76    70   516   343    72   126    80   247    20   114\n",
            "    73   317    36  1290   147    32    10   332   198   205   174   249\n",
            "    38    66     2   103    13   185   111    98    74    59    89    85\n",
            "    62   151   225    65    86   109   101    81    24    77  1769    47\n",
            "   257   269    99   390     3     7    87    90  1000   275   267   183\n",
            "   136   290   330    46   176     1   226   283    82    91   252    14\n",
            "    29   324   325  5900   350  8333   765   253  1200    31   189   487\n",
            "   328   368    61   750   337   925   500   234    28   104   294   210]\n"
          ]
        }
      ]
    },
    {
      "cell_type": "markdown",
      "source": [
        "#Checking data types after conversions"
      ],
      "metadata": {
        "id": "eSJx0mKdFhCp"
      }
    },
    {
      "cell_type": "code",
      "source": [
        "data.dtypes"
      ],
      "metadata": {
        "colab": {
          "base_uri": "https://localhost:8080/"
        },
        "id": "4XPdVfGbFk8k",
        "outputId": "6dd6c82c-94dc-436c-845e-cee03a7f59c5"
      },
      "execution_count": 27,
      "outputs": [
        {
          "output_type": "execute_result",
          "data": {
            "text/plain": [
              "MLS                          int64\n",
              "sold_price                 float64\n",
              "zipcode                      int64\n",
              "longitude                  float64\n",
              "latitude                   float64\n",
              "lot_acres                  float64\n",
              "taxes                      float64\n",
              "year_built                   int64\n",
              "bedrooms                     int64\n",
              "bathrooms                    int64\n",
              "sqrt_ft                      int64\n",
              "garage                       int64\n",
              "kitchen_features             int64\n",
              "fireplaces                 float64\n",
              "floor_covering               int64\n",
              "HOA                          int64\n",
              "kitchen_features_values      int64\n",
              "floor_covering_values      float64\n",
              "dtype: object"
            ]
          },
          "metadata": {},
          "execution_count": 27
        }
      ]
    },
    {
      "cell_type": "markdown",
      "source": [
        "#Check NaN"
      ],
      "metadata": {
        "id": "zS62KTQPxP_E"
      }
    },
    {
      "cell_type": "markdown",
      "source": [
        "This line of code computes the number of missing (or NaN) values for each column in a pandas DataFrame called data.\n",
        "\n",
        "First, the .isna() method is used to create a Boolean DataFrame where True indicates that the value in the original DataFrame is NaN, and False indicates that the value is not NaN.\n",
        "\n",
        "Then, the .sum() method is called on the Boolean DataFrame, which will count the number of True values (i.e., the number of NaN values) for each column in the original DataFrame. The result is a Series object where each column name is associated with the number of NaN values in that column."
      ],
      "metadata": {
        "id": "JPRGEZ-jxMqU"
      }
    },
    {
      "cell_type": "code",
      "source": [
        "data.isna().sum()"
      ],
      "metadata": {
        "colab": {
          "base_uri": "https://localhost:8080/"
        },
        "id": "K3QdBu13zuF1",
        "outputId": "ae321629-d7df-442e-97a3-291564c50f26"
      },
      "execution_count": 28,
      "outputs": [
        {
          "output_type": "execute_result",
          "data": {
            "text/plain": [
              "MLS                           0\n",
              "sold_price                    0\n",
              "zipcode                       0\n",
              "longitude                     0\n",
              "latitude                      0\n",
              "lot_acres                     0\n",
              "taxes                         0\n",
              "year_built                    0\n",
              "bedrooms                      0\n",
              "bathrooms                     0\n",
              "sqrt_ft                       0\n",
              "garage                        0\n",
              "kitchen_features              0\n",
              "fireplaces                    0\n",
              "floor_covering                0\n",
              "HOA                           0\n",
              "kitchen_features_values       0\n",
              "floor_covering_values      5000\n",
              "dtype: int64"
            ]
          },
          "metadata": {},
          "execution_count": 28
        }
      ]
    },
    {
      "cell_type": "markdown",
      "source": [
        "## Data types end"
      ],
      "metadata": {
        "id": "gv1CAcKa2wHt"
      }
    },
    {
      "cell_type": "markdown",
      "source": [
        "#Data description and dupes"
      ],
      "metadata": {
        "id": "x4Wvqc2WcXBi"
      }
    },
    {
      "cell_type": "code",
      "source": [
        "data.describe()"
      ],
      "metadata": {
        "colab": {
          "base_uri": "https://localhost:8080/",
          "height": 364
        },
        "id": "VfcdiYhkzwul",
        "outputId": "e9afc967-66df-481d-aa64-3faf11bad386"
      },
      "execution_count": 29,
      "outputs": [
        {
          "output_type": "execute_result",
          "data": {
            "text/plain": [
              "                MLS    sold_price       zipcode    longitude     latitude  \\\n",
              "count  5.000000e+03  5.000000e+03   5000.000000  5000.000000  5000.000000   \n",
              "mean   2.127070e+07  7.746262e+05  85723.025600  -110.912107    32.308512   \n",
              "std    2.398508e+06  3.185556e+05     38.061712     0.120629     0.178028   \n",
              "min    3.042851e+06  1.690000e+05  85118.000000  -112.520168    31.356362   \n",
              "25%    2.140718e+07  5.850000e+05  85718.000000  -110.979260    32.277484   \n",
              "50%    2.161469e+07  6.750000e+05  85737.000000  -110.923420    32.318517   \n",
              "75%    2.180480e+07  8.350000e+05  85749.000000  -110.859078    32.394334   \n",
              "max    2.192856e+07  5.300000e+06  86323.000000  -109.454637    34.927884   \n",
              "\n",
              "         lot_acres         taxes  year_built     bedrooms    bathrooms  \\\n",
              "count  5000.000000  5.000000e+03  5000.00000  5000.000000  5000.000000   \n",
              "mean      4.653974  9.402828e+03  1992.32800     3.933800     3.824200   \n",
              "std      51.633769  1.729385e+05    65.48614     1.245362     1.393156   \n",
              "min       0.000000  0.000000e+00     0.00000     1.000000     0.000000   \n",
              "25%       0.580000  4.803605e+03  1987.00000     3.000000     3.000000   \n",
              "50%       0.990000  6.223760e+03  1999.00000     4.000000     4.000000   \n",
              "75%       1.750000  8.082830e+03  2006.00000     4.000000     4.000000   \n",
              "max    2154.000000  1.221508e+07  2019.00000    36.000000    36.000000   \n",
              "\n",
              "            sqrt_ft       garage  kitchen_features   fireplaces  \\\n",
              "count   5000.000000  5000.000000       5000.000000  5000.000000   \n",
              "mean    3674.743400     2.805400        628.062400     1.880800   \n",
              "std     1181.036898     1.197922        792.975337     1.135451   \n",
              "min        0.000000     0.000000          1.000000     0.000000   \n",
              "25%     3032.000000     2.000000          1.000000     1.000000   \n",
              "50%     3499.500000     3.000000         97.000000     2.000000   \n",
              "75%     4120.000000     3.000000       1719.000000     3.000000   \n",
              "max    22408.000000    30.000000       1719.000000     9.000000   \n",
              "\n",
              "       floor_covering           HOA  kitchen_features_values  \\\n",
              "count     5000.000000   5000.000000              5000.000000   \n",
              "mean       448.222800     91.444200                 5.998600   \n",
              "std        479.314078    516.736808                 5.426794   \n",
              "min          1.000000      0.000000                 0.000000   \n",
              "25%         57.000000      0.000000                 3.000000   \n",
              "50%        242.000000     45.000000                 4.000000   \n",
              "75%        579.000000    123.000000                 6.000000   \n",
              "max       1235.000000  20000.000000                28.000000   \n",
              "\n",
              "       floor_covering_values  \n",
              "count                    0.0  \n",
              "mean                     NaN  \n",
              "std                      NaN  \n",
              "min                      NaN  \n",
              "25%                      NaN  \n",
              "50%                      NaN  \n",
              "75%                      NaN  \n",
              "max                      NaN  "
            ],
            "text/html": [
              "\n",
              "  <div id=\"df-1b7c837a-3d11-4bcb-befc-cf7b234798a5\">\n",
              "    <div class=\"colab-df-container\">\n",
              "      <div>\n",
              "<style scoped>\n",
              "    .dataframe tbody tr th:only-of-type {\n",
              "        vertical-align: middle;\n",
              "    }\n",
              "\n",
              "    .dataframe tbody tr th {\n",
              "        vertical-align: top;\n",
              "    }\n",
              "\n",
              "    .dataframe thead th {\n",
              "        text-align: right;\n",
              "    }\n",
              "</style>\n",
              "<table border=\"1\" class=\"dataframe\">\n",
              "  <thead>\n",
              "    <tr style=\"text-align: right;\">\n",
              "      <th></th>\n",
              "      <th>MLS</th>\n",
              "      <th>sold_price</th>\n",
              "      <th>zipcode</th>\n",
              "      <th>longitude</th>\n",
              "      <th>latitude</th>\n",
              "      <th>lot_acres</th>\n",
              "      <th>taxes</th>\n",
              "      <th>year_built</th>\n",
              "      <th>bedrooms</th>\n",
              "      <th>bathrooms</th>\n",
              "      <th>sqrt_ft</th>\n",
              "      <th>garage</th>\n",
              "      <th>kitchen_features</th>\n",
              "      <th>fireplaces</th>\n",
              "      <th>floor_covering</th>\n",
              "      <th>HOA</th>\n",
              "      <th>kitchen_features_values</th>\n",
              "      <th>floor_covering_values</th>\n",
              "    </tr>\n",
              "  </thead>\n",
              "  <tbody>\n",
              "    <tr>\n",
              "      <th>count</th>\n",
              "      <td>5.000000e+03</td>\n",
              "      <td>5.000000e+03</td>\n",
              "      <td>5000.000000</td>\n",
              "      <td>5000.000000</td>\n",
              "      <td>5000.000000</td>\n",
              "      <td>5000.000000</td>\n",
              "      <td>5.000000e+03</td>\n",
              "      <td>5000.00000</td>\n",
              "      <td>5000.000000</td>\n",
              "      <td>5000.000000</td>\n",
              "      <td>5000.000000</td>\n",
              "      <td>5000.000000</td>\n",
              "      <td>5000.000000</td>\n",
              "      <td>5000.000000</td>\n",
              "      <td>5000.000000</td>\n",
              "      <td>5000.000000</td>\n",
              "      <td>5000.000000</td>\n",
              "      <td>0.0</td>\n",
              "    </tr>\n",
              "    <tr>\n",
              "      <th>mean</th>\n",
              "      <td>2.127070e+07</td>\n",
              "      <td>7.746262e+05</td>\n",
              "      <td>85723.025600</td>\n",
              "      <td>-110.912107</td>\n",
              "      <td>32.308512</td>\n",
              "      <td>4.653974</td>\n",
              "      <td>9.402828e+03</td>\n",
              "      <td>1992.32800</td>\n",
              "      <td>3.933800</td>\n",
              "      <td>3.824200</td>\n",
              "      <td>3674.743400</td>\n",
              "      <td>2.805400</td>\n",
              "      <td>628.062400</td>\n",
              "      <td>1.880800</td>\n",
              "      <td>448.222800</td>\n",
              "      <td>91.444200</td>\n",
              "      <td>5.998600</td>\n",
              "      <td>NaN</td>\n",
              "    </tr>\n",
              "    <tr>\n",
              "      <th>std</th>\n",
              "      <td>2.398508e+06</td>\n",
              "      <td>3.185556e+05</td>\n",
              "      <td>38.061712</td>\n",
              "      <td>0.120629</td>\n",
              "      <td>0.178028</td>\n",
              "      <td>51.633769</td>\n",
              "      <td>1.729385e+05</td>\n",
              "      <td>65.48614</td>\n",
              "      <td>1.245362</td>\n",
              "      <td>1.393156</td>\n",
              "      <td>1181.036898</td>\n",
              "      <td>1.197922</td>\n",
              "      <td>792.975337</td>\n",
              "      <td>1.135451</td>\n",
              "      <td>479.314078</td>\n",
              "      <td>516.736808</td>\n",
              "      <td>5.426794</td>\n",
              "      <td>NaN</td>\n",
              "    </tr>\n",
              "    <tr>\n",
              "      <th>min</th>\n",
              "      <td>3.042851e+06</td>\n",
              "      <td>1.690000e+05</td>\n",
              "      <td>85118.000000</td>\n",
              "      <td>-112.520168</td>\n",
              "      <td>31.356362</td>\n",
              "      <td>0.000000</td>\n",
              "      <td>0.000000e+00</td>\n",
              "      <td>0.00000</td>\n",
              "      <td>1.000000</td>\n",
              "      <td>0.000000</td>\n",
              "      <td>0.000000</td>\n",
              "      <td>0.000000</td>\n",
              "      <td>1.000000</td>\n",
              "      <td>0.000000</td>\n",
              "      <td>1.000000</td>\n",
              "      <td>0.000000</td>\n",
              "      <td>0.000000</td>\n",
              "      <td>NaN</td>\n",
              "    </tr>\n",
              "    <tr>\n",
              "      <th>25%</th>\n",
              "      <td>2.140718e+07</td>\n",
              "      <td>5.850000e+05</td>\n",
              "      <td>85718.000000</td>\n",
              "      <td>-110.979260</td>\n",
              "      <td>32.277484</td>\n",
              "      <td>0.580000</td>\n",
              "      <td>4.803605e+03</td>\n",
              "      <td>1987.00000</td>\n",
              "      <td>3.000000</td>\n",
              "      <td>3.000000</td>\n",
              "      <td>3032.000000</td>\n",
              "      <td>2.000000</td>\n",
              "      <td>1.000000</td>\n",
              "      <td>1.000000</td>\n",
              "      <td>57.000000</td>\n",
              "      <td>0.000000</td>\n",
              "      <td>3.000000</td>\n",
              "      <td>NaN</td>\n",
              "    </tr>\n",
              "    <tr>\n",
              "      <th>50%</th>\n",
              "      <td>2.161469e+07</td>\n",
              "      <td>6.750000e+05</td>\n",
              "      <td>85737.000000</td>\n",
              "      <td>-110.923420</td>\n",
              "      <td>32.318517</td>\n",
              "      <td>0.990000</td>\n",
              "      <td>6.223760e+03</td>\n",
              "      <td>1999.00000</td>\n",
              "      <td>4.000000</td>\n",
              "      <td>4.000000</td>\n",
              "      <td>3499.500000</td>\n",
              "      <td>3.000000</td>\n",
              "      <td>97.000000</td>\n",
              "      <td>2.000000</td>\n",
              "      <td>242.000000</td>\n",
              "      <td>45.000000</td>\n",
              "      <td>4.000000</td>\n",
              "      <td>NaN</td>\n",
              "    </tr>\n",
              "    <tr>\n",
              "      <th>75%</th>\n",
              "      <td>2.180480e+07</td>\n",
              "      <td>8.350000e+05</td>\n",
              "      <td>85749.000000</td>\n",
              "      <td>-110.859078</td>\n",
              "      <td>32.394334</td>\n",
              "      <td>1.750000</td>\n",
              "      <td>8.082830e+03</td>\n",
              "      <td>2006.00000</td>\n",
              "      <td>4.000000</td>\n",
              "      <td>4.000000</td>\n",
              "      <td>4120.000000</td>\n",
              "      <td>3.000000</td>\n",
              "      <td>1719.000000</td>\n",
              "      <td>3.000000</td>\n",
              "      <td>579.000000</td>\n",
              "      <td>123.000000</td>\n",
              "      <td>6.000000</td>\n",
              "      <td>NaN</td>\n",
              "    </tr>\n",
              "    <tr>\n",
              "      <th>max</th>\n",
              "      <td>2.192856e+07</td>\n",
              "      <td>5.300000e+06</td>\n",
              "      <td>86323.000000</td>\n",
              "      <td>-109.454637</td>\n",
              "      <td>34.927884</td>\n",
              "      <td>2154.000000</td>\n",
              "      <td>1.221508e+07</td>\n",
              "      <td>2019.00000</td>\n",
              "      <td>36.000000</td>\n",
              "      <td>36.000000</td>\n",
              "      <td>22408.000000</td>\n",
              "      <td>30.000000</td>\n",
              "      <td>1719.000000</td>\n",
              "      <td>9.000000</td>\n",
              "      <td>1235.000000</td>\n",
              "      <td>20000.000000</td>\n",
              "      <td>28.000000</td>\n",
              "      <td>NaN</td>\n",
              "    </tr>\n",
              "  </tbody>\n",
              "</table>\n",
              "</div>\n",
              "      <button class=\"colab-df-convert\" onclick=\"convertToInteractive('df-1b7c837a-3d11-4bcb-befc-cf7b234798a5')\"\n",
              "              title=\"Convert this dataframe to an interactive table.\"\n",
              "              style=\"display:none;\">\n",
              "        \n",
              "  <svg xmlns=\"http://www.w3.org/2000/svg\" height=\"24px\"viewBox=\"0 0 24 24\"\n",
              "       width=\"24px\">\n",
              "    <path d=\"M0 0h24v24H0V0z\" fill=\"none\"/>\n",
              "    <path d=\"M18.56 5.44l.94 2.06.94-2.06 2.06-.94-2.06-.94-.94-2.06-.94 2.06-2.06.94zm-11 1L8.5 8.5l.94-2.06 2.06-.94-2.06-.94L8.5 2.5l-.94 2.06-2.06.94zm10 10l.94 2.06.94-2.06 2.06-.94-2.06-.94-.94-2.06-.94 2.06-2.06.94z\"/><path d=\"M17.41 7.96l-1.37-1.37c-.4-.4-.92-.59-1.43-.59-.52 0-1.04.2-1.43.59L10.3 9.45l-7.72 7.72c-.78.78-.78 2.05 0 2.83L4 21.41c.39.39.9.59 1.41.59.51 0 1.02-.2 1.41-.59l7.78-7.78 2.81-2.81c.8-.78.8-2.07 0-2.86zM5.41 20L4 18.59l7.72-7.72 1.47 1.35L5.41 20z\"/>\n",
              "  </svg>\n",
              "      </button>\n",
              "      \n",
              "  <style>\n",
              "    .colab-df-container {\n",
              "      display:flex;\n",
              "      flex-wrap:wrap;\n",
              "      gap: 12px;\n",
              "    }\n",
              "\n",
              "    .colab-df-convert {\n",
              "      background-color: #E8F0FE;\n",
              "      border: none;\n",
              "      border-radius: 50%;\n",
              "      cursor: pointer;\n",
              "      display: none;\n",
              "      fill: #1967D2;\n",
              "      height: 32px;\n",
              "      padding: 0 0 0 0;\n",
              "      width: 32px;\n",
              "    }\n",
              "\n",
              "    .colab-df-convert:hover {\n",
              "      background-color: #E2EBFA;\n",
              "      box-shadow: 0px 1px 2px rgba(60, 64, 67, 0.3), 0px 1px 3px 1px rgba(60, 64, 67, 0.15);\n",
              "      fill: #174EA6;\n",
              "    }\n",
              "\n",
              "    [theme=dark] .colab-df-convert {\n",
              "      background-color: #3B4455;\n",
              "      fill: #D2E3FC;\n",
              "    }\n",
              "\n",
              "    [theme=dark] .colab-df-convert:hover {\n",
              "      background-color: #434B5C;\n",
              "      box-shadow: 0px 1px 3px 1px rgba(0, 0, 0, 0.15);\n",
              "      filter: drop-shadow(0px 1px 2px rgba(0, 0, 0, 0.3));\n",
              "      fill: #FFFFFF;\n",
              "    }\n",
              "  </style>\n",
              "\n",
              "      <script>\n",
              "        const buttonEl =\n",
              "          document.querySelector('#df-1b7c837a-3d11-4bcb-befc-cf7b234798a5 button.colab-df-convert');\n",
              "        buttonEl.style.display =\n",
              "          google.colab.kernel.accessAllowed ? 'block' : 'none';\n",
              "\n",
              "        async function convertToInteractive(key) {\n",
              "          const element = document.querySelector('#df-1b7c837a-3d11-4bcb-befc-cf7b234798a5');\n",
              "          const dataTable =\n",
              "            await google.colab.kernel.invokeFunction('convertToInteractive',\n",
              "                                                     [key], {});\n",
              "          if (!dataTable) return;\n",
              "\n",
              "          const docLinkHtml = 'Like what you see? Visit the ' +\n",
              "            '<a target=\"_blank\" href=https://colab.research.google.com/notebooks/data_table.ipynb>data table notebook</a>'\n",
              "            + ' to learn more about interactive tables.';\n",
              "          element.innerHTML = '';\n",
              "          dataTable['output_type'] = 'display_data';\n",
              "          await google.colab.output.renderOutput(dataTable, element);\n",
              "          const docLink = document.createElement('div');\n",
              "          docLink.innerHTML = docLinkHtml;\n",
              "          element.appendChild(docLink);\n",
              "        }\n",
              "      </script>\n",
              "    </div>\n",
              "  </div>\n",
              "  "
            ]
          },
          "metadata": {},
          "execution_count": 29
        }
      ]
    },
    {
      "cell_type": "code",
      "source": [
        "data.duplicated().sum()"
      ],
      "metadata": {
        "colab": {
          "base_uri": "https://localhost:8080/"
        },
        "id": "Ct3nyBrRzy_m",
        "outputId": "8748710a-5c1b-4b75-9266-4d0914ccd758"
      },
      "execution_count": 30,
      "outputs": [
        {
          "output_type": "execute_result",
          "data": {
            "text/plain": [
              "0"
            ]
          },
          "metadata": {},
          "execution_count": 30
        }
      ]
    },
    {
      "cell_type": "markdown",
      "source": [
        "#Column_definitions"
      ],
      "metadata": {
        "id": "2V1iSd7gjFGT"
      }
    },
    {
      "cell_type": "code",
      "source": [
        "# Specify the columns to check for outliers\n",
        "columns_to_check = ['sold_price', 'lot_acres', 'taxes', 'bedrooms', 'bathrooms', 'sqrt_ft', 'garage', 'kitchen_features', 'fireplaces', 'floor_covering', 'HOA', 'kitchen_features_values', 'floor_covering_values']"
      ],
      "metadata": {
        "id": "z1RYlaCPcs-U"
      },
      "execution_count": 37,
      "outputs": []
    },
    {
      "cell_type": "code",
      "source": [
        "# Scale or normalize the features\n",
        "columns_to_scale = ['sold_price', 'lot_acres', 'taxes', 'year_built', 'sqrt_ft', 'fireplaces', 'bathrooms', 'bedrooms', 'garage']\n",
        "data_scaled = preprocessor.scale_features(data, columns_to_scale)"
      ],
      "metadata": {
        "id": "E7c3yswojIQw"
      },
      "execution_count": 38,
      "outputs": []
    },
    {
      "cell_type": "markdown",
      "source": [
        "#Check for outliers start"
      ],
      "metadata": {
        "id": "scSyHUfUceTP"
      }
    },
    {
      "cell_type": "code",
      "source": [
        "fig, axs = plt.subplots(ncols=len(columns_to_check), figsize=(20,5))\n",
        "for i, col in enumerate(columns_to_check):\n",
        "  axs[i].boxplot(data[col].values)\n",
        "  axs[i].set_title(col)\n",
        "\n",
        "plt.show()"
      ],
      "metadata": {
        "colab": {
          "base_uri": "https://localhost:8080/",
          "height": 347
        },
        "id": "xqo1u5Fyc3AS",
        "outputId": "1a1e6b3a-92d6-42d3-895f-094dbfcefbce"
      },
      "execution_count": 32,
      "outputs": [
        {
          "output_type": "display_data",
          "data": {
            "text/plain": [
              "<Figure size 1440x360 with 13 Axes>"
            ],
            "image/png": "[encoded data removed]"
          },
          "metadata": {
            "needs_background": "light"
          }
        }
      ]
    },
    {
      "cell_type": "code",
      "source": [],
      "metadata": {
        "id": "1HFMq-n6DPf4"
      },
      "execution_count": 32,
      "outputs": []
    },
    {
      "cell_type": "code",
      "source": [
        "data.info()"
      ],
      "metadata": {
        "colab": {
          "base_uri": "https://localhost:8080/"
        },
        "id": "erH6u6jmdZ3T",
        "outputId": "8f50ef5e-b685-4f01-a843-0d557e9c7c83"
      },
      "execution_count": 33,
      "outputs": [
        {
          "output_type": "stream",
          "name": "stdout",
          "text": [
            "<class 'pandas.core.frame.DataFrame'>\n",
            "RangeIndex: 5000 entries, 0 to 4999\n",
            "Data columns (total 18 columns):\n",
            " #   Column                   Non-Null Count  Dtype  \n",
            "---  ------                   --------------  -----  \n",
            " 0   MLS                      5000 non-null   int64  \n",
            " 1   sold_price               5000 non-null   float64\n",
            " 2   zipcode                  5000 non-null   int64  \n",
            " 3   longitude                5000 non-null   float64\n",
            " 4   latitude                 5000 non-null   float64\n",
            " 5   lot_acres                5000 non-null   float64\n",
            " 6   taxes                    5000 non-null   float64\n",
            " 7   year_built               5000 non-null   int64  \n",
            " 8   bedrooms                 5000 non-null   int64  \n",
            " 9   bathrooms                5000 non-null   int64  \n",
            " 10  sqrt_ft                  5000 non-null   int64  \n",
            " 11  garage                   5000 non-null   int64  \n",
            " 12  kitchen_features         5000 non-null   int64  \n",
            " 13  fireplaces               5000 non-null   float64\n",
            " 14  floor_covering           5000 non-null   int64  \n",
            " 15  HOA                      5000 non-null   int64  \n",
            " 16  kitchen_features_values  5000 non-null   int64  \n",
            " 17  floor_covering_values    0 non-null      float64\n",
            "dtypes: float64(7), int64(11)\n",
            "memory usage: 703.2 KB\n"
          ]
        }
      ]
    },
    {
      "cell_type": "markdown",
      "source": [
        "#Correlation Matrix"
      ],
      "metadata": {
        "id": "i6swXiAqcmKn"
      }
    },
    {
      "cell_type": "code",
      "source": [
        "# Calculate the correlation matrix\n",
        "correlation_matrix = data.corr()\n",
        "\n",
        "fig, ax = plt.subplots(figsize=(10, 8))\n",
        "im = ax.imshow(correlation_matrix, cmap='coolwarm')\n",
        "\n",
        "# Display the colorbar\n",
        "cbar = ax.figure.colorbar(im, ax=ax)\n",
        "\n",
        "# Set the tick labels and axis labels\n",
        "ax.set_xticks(np.arange(len(columns_to_check)))\n",
        "ax.set_yticks(np.arange(len(columns_to_check)))\n",
        "ax.set_xticklabels(columns_to_check, fontsize=12)\n",
        "ax.set_yticklabels(columns_to_check, fontsize=12)\n",
        "ax.set_xlabel('Features', fontsize=14)\n",
        "ax.set_ylabel('Features', fontsize=14)\n",
        "\n",
        "# Rotate the tick labels and set their alignment\n",
        "plt.setp(ax.get_xticklabels(), rotation=45, ha=\"right\",\n",
        "         rotation_mode=\"anchor\")\n",
        "\n",
        "# Display the correlation values in the heatmap\n",
        "for i in range(len(columns_to_check)):\n",
        "    for j in range(len(columns_to_check)):\n",
        "        text = ax.text(j, i, f'{correlation_matrix[i, j]:.2f}',\n",
        "                       ha=\"center\", va=\"center\", color=\"w\", fontsize=10)\n",
        "\n",
        "# Set the title of the plot\n",
        "ax.set_title(\"Correlation Matrix\", fontsize=16)\n",
        "\n",
        "# Show the plot\n",
        "plt.show()\n"
      ],
      "metadata": {
        "colab": {
          "base_uri": "https://localhost:8080/",
          "height": 1000
        },
        "id": "gbAjvi2ScoL7",
        "outputId": "6bed7de1-1d31-4fc4-bd8e-2fa747ef9240"
      },
      "execution_count": 35,
      "outputs": [
        {
          "output_type": "error",
          "ename": "KeyError",
          "evalue": "ignored",
          "traceback": [
            "\u001b[0;31m---------------------------------------------------------------------------\u001b[0m",
            "\u001b[0;31mKeyError\u001b[0m                                  Traceback (most recent call last)",
            "\u001b[0;32m/usr/local/lib/python3.9/dist-packages/pandas/core/indexes/base.py\u001b[0m in \u001b[0;36mget_loc\u001b[0;34m(self, key, method, tolerance)\u001b[0m\n\u001b[1;32m   3628\u001b[0m             \u001b[0;32mtry\u001b[0m\u001b[0;34m:\u001b[0m\u001b[0;34m\u001b[0m\u001b[0;34m\u001b[0m\u001b[0m\n\u001b[0;32m-> 3629\u001b[0;31m                 \u001b[0;32mreturn\u001b[0m \u001b[0mself\u001b[0m\u001b[0;34m.\u001b[0m\u001b[0m_engine\u001b[0m\u001b[0;34m.\u001b[0m\u001b[0mget_loc\u001b[0m\u001b[0;34m(\u001b[0m\u001b[0mcasted_key\u001b[0m\u001b[0;34m)\u001b[0m\u001b[0;34m\u001b[0m\u001b[0;34m\u001b[0m\u001b[0m\n\u001b[0m\u001b[1;32m   3630\u001b[0m             \u001b[0;32mexcept\u001b[0m \u001b[0mKeyError\u001b[0m \u001b[0;32mas\u001b[0m \u001b[0merr\u001b[0m\u001b[0;34m:\u001b[0m\u001b[0;34m\u001b[0m\u001b[0;34m\u001b[0m\u001b[0m\n",
            "\u001b[0;32m/usr/local/lib/python3.9/dist-packages/pandas/_libs/index.pyx\u001b[0m in \u001b[0;36mpandas._libs.index.IndexEngine.get_loc\u001b[0;34m()\u001b[0m\n",
            "\u001b[0;32m/usr/local/lib/python3.9/dist-packages/pandas/_libs/index.pyx\u001b[0m in \u001b[0;36mpandas._libs.index.IndexEngine.get_loc\u001b[0;34m()\u001b[0m\n",
            "\u001b[0;32mpandas/_libs/hashtable_class_helper.pxi\u001b[0m in \u001b[0;36mpandas._libs.hashtable.PyObjectHashTable.get_item\u001b[0;34m()\u001b[0m\n",
            "\u001b[0;32mpandas/_libs/hashtable_class_helper.pxi\u001b[0m in \u001b[0;36mpandas._libs.hashtable.PyObjectHashTable.get_item\u001b[0;34m()\u001b[0m\n",
            "\u001b[0;31mKeyError\u001b[0m: (0, 0)",
            "\nThe above exception was the direct cause of the following exception:\n",
            "\u001b[0;31mKeyError\u001b[0m                                  Traceback (most recent call last)",
            "\u001b[0;32m<ipython-input-35-41f08dc682bd>\u001b[0m in \u001b[0;36m<module>\u001b[0;34m\u001b[0m\n\u001b[1;32m     23\u001b[0m \u001b[0;32mfor\u001b[0m \u001b[0mi\u001b[0m \u001b[0;32min\u001b[0m \u001b[0mrange\u001b[0m\u001b[0;34m(\u001b[0m\u001b[0mlen\u001b[0m\u001b[0;34m(\u001b[0m\u001b[0mcolumns_to_check\u001b[0m\u001b[0;34m)\u001b[0m\u001b[0;34m)\u001b[0m\u001b[0;34m:\u001b[0m\u001b[0;34m\u001b[0m\u001b[0;34m\u001b[0m\u001b[0m\n\u001b[1;32m     24\u001b[0m     \u001b[0;32mfor\u001b[0m \u001b[0mj\u001b[0m \u001b[0;32min\u001b[0m \u001b[0mrange\u001b[0m\u001b[0;34m(\u001b[0m\u001b[0mlen\u001b[0m\u001b[0;34m(\u001b[0m\u001b[0mcolumns_to_check\u001b[0m\u001b[0;34m)\u001b[0m\u001b[0;34m)\u001b[0m\u001b[0;34m:\u001b[0m\u001b[0;34m\u001b[0m\u001b[0;34m\u001b[0m\u001b[0m\n\u001b[0;32m---> 25\u001b[0;31m         text = ax.text(j, i, f'{correlation_matrix[i, j]:.2f}',\n\u001b[0m\u001b[1;32m     26\u001b[0m                        ha=\"center\", va=\"center\", color=\"w\", fontsize=10)\n\u001b[1;32m     27\u001b[0m \u001b[0;34m\u001b[0m\u001b[0m\n",
            "\u001b[0;32m/usr/local/lib/python3.9/dist-packages/pandas/core/frame.py\u001b[0m in \u001b[0;36m__getitem__\u001b[0;34m(self, key)\u001b[0m\n\u001b[1;32m   3503\u001b[0m             \u001b[0;32mif\u001b[0m \u001b[0mself\u001b[0m\u001b[0;34m.\u001b[0m\u001b[0mcolumns\u001b[0m\u001b[0;34m.\u001b[0m\u001b[0mnlevels\u001b[0m \u001b[0;34m>\u001b[0m \u001b[0;36m1\u001b[0m\u001b[0;34m:\u001b[0m\u001b[0;34m\u001b[0m\u001b[0;34m\u001b[0m\u001b[0m\n\u001b[1;32m   3504\u001b[0m                 \u001b[0;32mreturn\u001b[0m \u001b[0mself\u001b[0m\u001b[0;34m.\u001b[0m\u001b[0m_getitem_multilevel\u001b[0m\u001b[0;34m(\u001b[0m\u001b[0mkey\u001b[0m\u001b[0;34m)\u001b[0m\u001b[0;34m\u001b[0m\u001b[0;34m\u001b[0m\u001b[0m\n\u001b[0;32m-> 3505\u001b[0;31m             \u001b[0mindexer\u001b[0m \u001b[0;34m=\u001b[0m \u001b[0mself\u001b[0m\u001b[0;34m.\u001b[0m\u001b[0mcolumns\u001b[0m\u001b[0;34m.\u001b[0m\u001b[0mget_loc\u001b[0m\u001b[0;34m(\u001b[0m\u001b[0mkey\u001b[0m\u001b[0;34m)\u001b[0m\u001b[0;34m\u001b[0m\u001b[0;34m\u001b[0m\u001b[0m\n\u001b[0m\u001b[1;32m   3506\u001b[0m             \u001b[0;32mif\u001b[0m \u001b[0mis_integer\u001b[0m\u001b[0;34m(\u001b[0m\u001b[0mindexer\u001b[0m\u001b[0;34m)\u001b[0m\u001b[0;34m:\u001b[0m\u001b[0;34m\u001b[0m\u001b[0;34m\u001b[0m\u001b[0m\n\u001b[1;32m   3507\u001b[0m                 \u001b[0mindexer\u001b[0m \u001b[0;34m=\u001b[0m \u001b[0;34m[\u001b[0m\u001b[0mindexer\u001b[0m\u001b[0;34m]\u001b[0m\u001b[0;34m\u001b[0m\u001b[0;34m\u001b[0m\u001b[0m\n",
            "\u001b[0;32m/usr/local/lib/python3.9/dist-packages/pandas/core/indexes/base.py\u001b[0m in \u001b[0;36mget_loc\u001b[0;34m(self, key, method, tolerance)\u001b[0m\n\u001b[1;32m   3629\u001b[0m                 \u001b[0;32mreturn\u001b[0m \u001b[0mself\u001b[0m\u001b[0;34m.\u001b[0m\u001b[0m_engine\u001b[0m\u001b[0;34m.\u001b[0m\u001b[0mget_loc\u001b[0m\u001b[0;34m(\u001b[0m\u001b[0mcasted_key\u001b[0m\u001b[0;34m)\u001b[0m\u001b[0;34m\u001b[0m\u001b[0;34m\u001b[0m\u001b[0m\n\u001b[1;32m   3630\u001b[0m             \u001b[0;32mexcept\u001b[0m \u001b[0mKeyError\u001b[0m \u001b[0;32mas\u001b[0m \u001b[0merr\u001b[0m\u001b[0;34m:\u001b[0m\u001b[0;34m\u001b[0m\u001b[0;34m\u001b[0m\u001b[0m\n\u001b[0;32m-> 3631\u001b[0;31m                 \u001b[0;32mraise\u001b[0m \u001b[0mKeyError\u001b[0m\u001b[0;34m(\u001b[0m\u001b[0mkey\u001b[0m\u001b[0;34m)\u001b[0m \u001b[0;32mfrom\u001b[0m \u001b[0merr\u001b[0m\u001b[0;34m\u001b[0m\u001b[0;34m\u001b[0m\u001b[0m\n\u001b[0m\u001b[1;32m   3632\u001b[0m             \u001b[0;32mexcept\u001b[0m \u001b[0mTypeError\u001b[0m\u001b[0;34m:\u001b[0m\u001b[0;34m\u001b[0m\u001b[0;34m\u001b[0m\u001b[0m\n\u001b[1;32m   3633\u001b[0m                 \u001b[0;31m# If we have a listlike key, _check_indexing_error will raise\u001b[0m\u001b[0;34m\u001b[0m\u001b[0;34m\u001b[0m\u001b[0m\n",
            "\u001b[0;31mKeyError\u001b[0m: (0, 0)"
          ]
        },
        {
          "output_type": "display_data",
          "data": {
            "text/plain": [
              "<Figure size 720x576 with 2 Axes>"
            ],
            "image/png": "[encoded data removed]"
          },
          "metadata": {
            "needs_background": "light"
          }
        }
      ]
    },
    {
      "cell_type": "markdown",
      "source": [
        "#Check for outliers end"
      ],
      "metadata": {
        "id": "-gre1FTwckIV"
      }
    },
    {
      "cell_type": "markdown",
      "source": [
        "#Class example"
      ],
      "metadata": {
        "id": "8lRVJKgO2Osa"
      }
    },
    {
      "cell_type": "code",
      "source": [
        "from geopy import Nominatim"
      ],
      "metadata": {
        "id": "L5tP9NeU2QKy"
      },
      "execution_count": null,
      "outputs": []
    },
    {
      "cell_type": "markdown",
      "source": [
        "Give it user location"
      ],
      "metadata": {
        "id": "uA2nTC4d2WBC"
      }
    },
    {
      "cell_type": "code",
      "source": [
        "geolocator = Nominatim(user_agent = 'mAIstros')"
      ],
      "metadata": {
        "id": "9vX2fuW92U7E"
      },
      "execution_count": null,
      "outputs": []
    },
    {
      "cell_type": "markdown",
      "source": [
        "variable name we are giving it"
      ],
      "metadata": {
        "id": "zdnXzSKn2lCe"
      }
    },
    {
      "cell_type": "code",
      "source": [
        "location = geolocator.geocode(\"1785 The Exchange SE, Atlanta\")"
      ],
      "metadata": {
        "id": "HWCwjs5_2m_v"
      },
      "execution_count": null,
      "outputs": []
    },
    {
      "cell_type": "markdown",
      "source": [
        "Let's look at the location"
      ],
      "metadata": {
        "id": "InrxP2PH23AR"
      }
    },
    {
      "cell_type": "code",
      "source": [
        "location"
      ],
      "metadata": {
        "id": "8O_pdhZh24br"
      },
      "execution_count": null,
      "outputs": []
    },
    {
      "cell_type": "markdown",
      "source": [
        "look at the point"
      ],
      "metadata": {
        "id": "Apx67bjT3oVn"
      }
    },
    {
      "cell_type": "code",
      "source": [
        "location.point"
      ],
      "metadata": {
        "id": "e3ShBUa33nY8"
      },
      "execution_count": null,
      "outputs": []
    },
    {
      "cell_type": "code",
      "source": [
        "location = geolocator.geocode(\"10 Downing Street\")"
      ],
      "metadata": {
        "id": "GfMQ-lTI4vcz"
      },
      "execution_count": null,
      "outputs": []
    },
    {
      "cell_type": "code",
      "source": [
        "location"
      ],
      "metadata": {
        "id": "j18ZgdBY41L0"
      },
      "execution_count": null,
      "outputs": []
    },
    {
      "cell_type": "markdown",
      "source": [
        "calc location point"
      ],
      "metadata": {
        "id": "PTYMdl5n5Pn0"
      }
    },
    {
      "cell_type": "code",
      "source": [
        "print(\"Latitude: {}, Longitude: {}\".format(location.point.latitude, location.point.longitude))\n"
      ],
      "metadata": {
        "id": "0tgVfqLq5Rc3"
      },
      "execution_count": null,
      "outputs": []
    },
    {
      "cell_type": "markdown",
      "source": [
        "#Old code that is now object oriented"
      ],
      "metadata": {
        "id": "DuDdd0FnrYBI"
      }
    },
    {
      "cell_type": "code",
      "source": [
        "#non_numeric = data[pd.to_numeric(data['bathrooms'], errors='coerce').isna()]\n",
        "#print(non_numeric)"
      ],
      "metadata": {
        "id": "PgZ26SmKYFGk"
      },
      "execution_count": null,
      "outputs": []
    },
    {
      "cell_type": "code",
      "source": [
        "#Replace \"None\" with NaN\n",
        "#data['sqrt_ft'] = data['sqrt_ft'].replace(\"None\", np.nan)\n",
        "\n",
        "#Convert the columns to float\n",
        "#data['sqrt_ft'] = data['sqrt_ft'].astype(float)\n",
        "\n",
        "#Replace NaN with 0\n",
        "#data['sqrt_ft'] = data['sqrt_ft'].fillna(0)\n",
        "\n",
        "#Round down to the nearest integer\n",
        "#data['sqrt_ft'] = data['sqrt_ft'].apply(lambda x: math.floor(x))\n",
        "\n",
        "#Convert to int\n",
        "#data['sqrt_ft'] = data['sqrt_ft'].astype(int)"
      ],
      "metadata": {
        "id": "zXvjoFJ-f41N"
      },
      "execution_count": null,
      "outputs": []
    },
    {
      "cell_type": "code",
      "source": [
        "#Replace \"None\" with NaN\n",
        "#data['garage'] = data['garage'].replace(\"None\", np.nan)\n",
        "\n",
        "#Convert the columns to float\n",
        "#data['garage'] = data['garage'].astype(float)\n",
        "\n",
        "#Replace NaN with 0\n",
        "#data['garage'] = data['garage'].fillna(0)\n",
        "\n",
        "#Round down to the nearest integer\n",
        "#data['garage'] = data['garage'].apply(lambda x: math.floor(x))\n",
        "\n",
        "#Convert to int\n",
        "#data['garage'] = data['garage'].astype(int)"
      ],
      "metadata": {
        "id": "f1JzeW-medkL"
      },
      "execution_count": null,
      "outputs": []
    },
    {
      "cell_type": "code",
      "source": [
        "# Replace \"None\" with NaN\n",
        "#data['bathrooms'] = data['bathrooms'].replace(\"None\", np.nan)\n",
        "\n",
        "# Convert the 'bathrooms' column to float\n",
        "#data['bathrooms'] = data['bathrooms'].astype(float)\n",
        "\n",
        "# Replace NaN with 0\n",
        "#data['bathrooms'] = data['bathrooms'].fillna(0)\n",
        "\n",
        "# Round down to the nearest integer\n",
        "#data['bathrooms'] = data['bathrooms'].apply(lambda x: math.floor(x))\n",
        "\n",
        "# Convert to int\n",
        "#data['bathrooms'] = data['bathrooms'].astype(int)\n",
        "\n",
        "# Verify the result\n",
        "#print(data['bathrooms'].unique())"
      ],
      "metadata": {
        "id": "9H2UihPJV6Rj"
      },
      "execution_count": null,
      "outputs": []
    },
    {
      "cell_type": "code",
      "source": [
        "#def kitchen_features_count(features):\n",
        "#    return len(features.split(','))\n",
        "\n",
        "#data['kitchen_features'].value_counts()\n",
        "\n",
        "# Create a new column with the counts\n",
        "#data['kitchen_features_count'] = data['kitchen_features'].map(kitchen_features_count)"
      ],
      "metadata": {
        "id": "eDMsun7m2QK4"
      },
      "execution_count": null,
      "outputs": []
    }
  ]
}